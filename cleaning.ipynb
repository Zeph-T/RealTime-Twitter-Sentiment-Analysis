{
 "cells": [
  {
   "cell_type": "code",
   "execution_count": 71,
   "metadata": {},
   "outputs": [],
   "source": [
    "import pandas as pd\n",
    "import re\n",
    "import numpy as np\n",
    "import nltk\n",
    "from nltk.corpus import stopwords\n",
    "from nltk.stem import PorterStemmer\n",
    "\n",
    "stop_words = stopwords.words(\"english\")\n",
    "stemmer = PorterStemmer() "
   ]
  },
  {
   "cell_type": "code",
   "execution_count": 72,
   "metadata": {},
   "outputs": [],
   "source": [
    "import string\n",
    "punct = set(string.punctuation)"
   ]
  },
  {
   "cell_type": "code",
   "execution_count": 98,
   "metadata": {},
   "outputs": [],
   "source": [
    "def remove_emoji(string):\n",
    "    emoji_pattern = re.compile(\"[\"\n",
    "                           u\"\\U0001F600-\\U0001F64F\"  # emoticons\n",
    "                           u\"\\U0001F300-\\U0001F5FF\"  # symbols & pictographs\n",
    "                           u\"\\U0001F680-\\U0001F6FF\"  # transport & map symbols\n",
    "                           u\"\\U0001F1E0-\\U0001F1FF\"  # flags (iOS)\n",
    "                           u\"\\U00002702-\\U000027B0\"\n",
    "                           u\"\\U000024C2-\\U0001F251\"\n",
    "                           \"]+\", flags=re.UNICODE)\n",
    "    return emoji_pattern.sub(r'', string)\n",
    "\n",
    "\n",
    "def data_cleaning(df_tweet):\n",
    "    \n",
    "    final_list = []\n",
    "    for raw_tweet in df_tweet:\n",
    "        tweet = str(raw_tweet).lower()\n",
    "        #for removing @\n",
    "        tweet = re.sub(r'@[\\S]+', '', tweet)\n",
    "        #for removing urls\n",
    "        tweet = re.sub(r'((www\\.[\\S]+)|(https?://[\\S]+))','',tweet)\n",
    "        #for replacing #hashtag with hashtag\n",
    "        tweet = re.sub(r'#(\\S+)', r' \\1 ', tweet)\n",
    "        #for removing punctuations\n",
    "        tweet_pt = []\n",
    "        for i in tweet:\n",
    "            if i not in punct:\n",
    "                tweet_pt.append(i)\n",
    "        tweet = ''.join(tweet_pt)\n",
    "        #for removing StopWords\n",
    "        tweet_sw = []\n",
    "        for i in tweet.split():\n",
    "            if i not in stop_words:\n",
    "                tweet_sw.append(stemmer.stem(i))\n",
    "\n",
    "        tweet_stemmed = ' '.join(tweet_sw)\n",
    "        #for removing emojis\n",
    "        tweet_final = remove_emoji(tweet_stemmed)\n",
    "        \n",
    "        \n",
    "        \n",
    "        final_list.append(tweet_final)\n",
    "        \n",
    "    return final_list\n",
    "\n",
    "        \n",
    "#     final_df = pd.DataFrame(final_list)\n",
    "#     return tweet_final\n",
    "    \n",
    "    "
   ]
  },
  {
   "cell_type": "code",
   "execution_count": null,
   "metadata": {
    "scrolled": false
   },
   "outputs": [],
   "source": []
  },
  {
   "cell_type": "code",
   "execution_count": 110,
   "metadata": {},
   "outputs": [],
   "source": [
    "#Reference on how to call the function\n",
    "\n",
    "tw = pd.read_csv(your csv file goes here)\n",
    "\n",
    "tw_list,final_list = [],[]\n",
    "for i in tw[tw['language']=='en']['tweet']:\n",
    "    tw_list.append(i)\n",
    "    \n",
    "final_list = data_cleaning(tw_list)\n",
    "\n",
    "final_tweets = pd.DataFrame(final_list,columns=['tweets'])\n",
    "final_tweets.to_csv('')\n"
   ]
  },
  {
   "cell_type": "code",
   "execution_count": 104,
   "metadata": {},
   "outputs": [],
   "source": []
  },
  {
   "cell_type": "code",
   "execution_count": 105,
   "metadata": {},
   "outputs": [],
   "source": []
  },
  {
   "cell_type": "code",
   "execution_count": 106,
   "metadata": {},
   "outputs": [
    {
     "name": "stderr",
     "output_type": "stream",
     "text": [
      "C:\\Users\\jonny\\anaconda3\\lib\\site-packages\\IPython\\core\\interactiveshell.py:3071: DtypeWarning: Columns (9) have mixed types.Specify dtype option on import or set low_memory=False.\n",
      "  has_raised = await self.run_ast_nodes(code_ast.body, cell_name,\n"
     ]
    }
   ],
   "source": []
  },
  {
   "cell_type": "code",
   "execution_count": 107,
   "metadata": {},
   "outputs": [],
   "source": [
    "\n"
   ]
  },
  {
   "cell_type": "code",
   "execution_count": 108,
   "metadata": {},
   "outputs": [],
   "source": []
  },
  {
   "cell_type": "code",
   "execution_count": 109,
   "metadata": {},
   "outputs": [],
   "source": []
  },
  {
   "cell_type": "code",
   "execution_count": null,
   "metadata": {},
   "outputs": [],
   "source": []
  }
 ],
 "metadata": {
  "kernelspec": {
   "display_name": "Python 3",
   "language": "python",
   "name": "python3"
  },
  "language_info": {
   "codemirror_mode": {
    "name": "ipython",
    "version": 3
   },
   "file_extension": ".py",
   "mimetype": "text/x-python",
   "name": "python",
   "nbconvert_exporter": "python",
   "pygments_lexer": "ipython3",
   "version": "3.8.3"
  }
 },
 "nbformat": 4,
 "nbformat_minor": 4
}
