{
 "metadata": {
  "language_info": {
   "codemirror_mode": {
    "name": "ipython",
    "version": 3
   },
   "file_extension": ".py",
   "mimetype": "text/x-python",
   "name": "python",
   "nbconvert_exporter": "python",
   "pygments_lexer": "ipython3",
   "version": "3.7.4-final"
  },
  "orig_nbformat": 2,
  "kernelspec": {
   "name": "python3",
   "display_name": "Python 3",
   "language": "python"
  }
 },
 "nbformat": 4,
 "nbformat_minor": 2,
 "cells": [
  {
   "cell_type": "code",
   "execution_count": 22,
   "metadata": {},
   "outputs": [],
   "source": [
    "agri_df = pd.DataFrame(agri_final)"
   ]
  },
  {
   "cell_type": "code",
   "execution_count": 1,
   "metadata": {},
   "outputs": [],
   "source": [
    "#Import Libraries\n",
    "import numpy as np\n",
    "import pandas as pd\n",
    "import matplotlib.pyplot as plt\n",
    "%matplotlib inline\n",
    "import seaborn as sns\n",
    "import re\n",
    "import string\n",
    "import nltk"
   ]
  },
  {
   "cell_type": "code",
   "execution_count": 2,
   "metadata": {},
   "outputs": [],
   "source": [
    "stop_words = nltk.corpus.stopwords.words('English')"
   ]
  },
  {
   "cell_type": "code",
   "execution_count": 3,
   "metadata": {},
   "outputs": [],
   "source": [
    "def text_process(tweet):\n",
    "    tweet.lower()\n",
    "    #Remove URLs\n",
    "    tweet = re.sub(r\"http\\S+|www\\S+|https\\S+\", '', tweet, flags=re.MULTILINE)\n",
    "    #Remove @ mentions\n",
    "    tweet = re.sub(r'\\@\\w+|\\#','', tweet)\n",
    "    #Remove Emojis\n",
    "    emoji_pattern = re.compile(\n",
    "    u\"(\\ud83d[\\ude00-\\ude4f])|\"  # emoticons\n",
    "    u\"(\\ud83c[\\udf00-\\uffff])|\"  # symbols & pictographs (1 of 2)\n",
    "    u\"(\\ud83d[\\u0000-\\uddff])|\"  # symbols & pictographs (2 of 2)\n",
    "    u\"(\\ud83d[\\ude80-\\udeff])|\"  # transport & map symbols\n",
    "    u\"(\\ud83c[\\udde0-\\uddff])\"  # flags (iOS)\n",
    "    \"+\", flags=re.UNICODE)\n",
    "    emoji_pattern.sub(r'', tweet) # no emoji\n",
    "    #Remove punctuation\n",
    "    tweet = [char for char in tweet if char not in string.punctuation]\n",
    "    tweet = ''.join(tweet)\n",
    "    #Remove Stopwords\n",
    "    tweet_tokens = nltk.word_tokenize(tweet)\n",
    "    filtered_tweet = [tokens for tokens in tweet_tokens if tokens not in stop_words]\n",
    "    filtered_tweet = ' '.join(filtered_tweet)\n",
    "    return filtered_tweet"
   ]
  },
  {
   "cell_type": "code",
   "execution_count": 97,
   "metadata": {},
   "outputs": [],
   "source": [
    "df = pd.read_csv('G:/RealTime-Twitter-Sentiment-Analysis/Datasets/uefa.csv')"
   ]
  },
  {
   "cell_type": "code",
   "execution_count": 98,
   "metadata": {},
   "outputs": [],
   "source": [
    "df['new_tweet'] = df['tweet'].apply(text_process)"
   ]
  },
  {
   "cell_type": "code",
   "execution_count": 99,
   "metadata": {},
   "outputs": [],
   "source": [
    "df_final = df['new_tweet']"
   ]
  },
  {
   "cell_type": "code",
   "execution_count": 100,
   "metadata": {},
   "outputs": [],
   "source": [
    "df_final.drop_duplicates(inplace=True)"
   ]
  },
  {
   "cell_type": "code",
   "execution_count": 101,
   "metadata": {},
   "outputs": [
    {
     "output_type": "execute_result",
     "data": {
      "text/plain": [
       "0        yemin ederim felaket gaza geldim bu video uefa...\n",
       "1        Aleksander Čeferin ostaja optimist Uefa pa ima...\n",
       "2        Y Ziganda se le lesionó Iker Muniain para 6 me...\n",
       "3        Söyleyene bak tescilli şikecişike nedeniyle ue...\n",
       "4        UEFAdan 🇹🇷 Hakan Çalhanoğlu paylaşımı 👇 🅰 Kena...\n",
       "                               ...                        \n",
       "50093            City pay lifetime easy round 16 give uefa\n",
       "50094    Confronto número 1 Borússia Mönchengladbach x ...\n",
       "50095    PERO QUE ES ESTO TIO A NOSOTROA NOS TOCARÁ EL ...\n",
       "50096    Dates 16th round matches 202021 UEFA Champions...\n",
       "50097                      Fucking hell uefa stop waffling\n",
       "Name: new_tweet, Length: 46816, dtype: object"
      ]
     },
     "metadata": {},
     "execution_count": 101
    }
   ],
   "source": [
    "df_final"
   ]
  },
  {
   "cell_type": "code",
   "execution_count": 102,
   "metadata": {},
   "outputs": [],
   "source": [
    "df_final.to_csv('uefa_final.csv')"
   ]
  },
  {
   "cell_type": "code",
   "execution_count": null,
   "metadata": {},
   "outputs": [],
   "source": []
  }
 ]
}