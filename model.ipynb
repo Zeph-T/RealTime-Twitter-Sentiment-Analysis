{
 "metadata": {
  "language_info": {
   "codemirror_mode": {
    "name": "ipython",
    "version": 3
   },
   "file_extension": ".py",
   "mimetype": "text/x-python",
   "name": "python",
   "nbconvert_exporter": "python",
   "pygments_lexer": "ipython3",
   "version": "3.7.4-final"
  },
  "orig_nbformat": 2,
  "kernelspec": {
   "name": "python3",
   "display_name": "Python 3",
   "language": "python"
  }
 },
 "nbformat": 4,
 "nbformat_minor": 2,
 "cells": [
  {
   "cell_type": "code",
   "execution_count": 1,
   "metadata": {},
   "outputs": [],
   "source": [
    "#Import Libraries\n",
    "import numpy as np\n",
    "import pandas as pd\n",
    "import matplotlib.pyplot as plt\n",
    "%matplotlib inline\n",
    "import seaborn as sns\n",
    "import re\n",
    "import string\n",
    "import nltk\n",
    "from gensim.models import Word2Vec"
   ]
  },
  {
   "cell_type": "code",
   "execution_count": 2,
   "metadata": {},
   "outputs": [],
   "source": [
    "stop_words = nltk.corpus.stopwords.words('English')"
   ]
  },
  {
   "cell_type": "code",
   "execution_count": 3,
   "metadata": {},
   "outputs": [],
   "source": [
    "def text_process(tweet):\n",
    "    tweet.lower()\n",
    "    #Remove URLs\n",
    "    tweet = re.sub(r\"http\\S+|www\\S+|https\\S+\", '', tweet, flags=re.MULTILINE)\n",
    "    #Remove @ mentions\n",
    "    tweet = re.sub(r'\\@\\w+|\\#','', tweet)\n",
    "    #Remove Emojis\n",
    "    emoji_pattern = re.compile(\n",
    "    u\"(\\ud83d[\\ude00-\\ude4f])|\"  # emoticons\n",
    "    u\"(\\ud83c[\\udf00-\\uffff])|\"  # symbols & pictographs (1 of 2)\n",
    "    u\"(\\ud83d[\\u0000-\\uddff])|\"  # symbols & pictographs (2 of 2)\n",
    "    u\"(\\ud83d[\\ude80-\\udeff])|\"  # transport & map symbols\n",
    "    u\"(\\ud83c[\\udde0-\\uddff])\"  # flags (iOS)\n",
    "    \"+\", flags=re.UNICODE)\n",
    "    emoji_pattern.sub(r'', tweet) # no emoji\n",
    "    #Remove punctuation\n",
    "    tweet = [char for char in tweet if char not in string.punctuation]\n",
    "    tweet = ''.join(tweet)\n",
    "    #Remove Stopwords\n",
    "    tweet_tokens = nltk.word_tokenize(tweet)\n",
    "    filtered_tweet = [tokens for tokens in tweet_tokens if tokens not in stop_words]\n",
    "    #filtered_tweet = ' '.join(filtered_tweet)\n",
    "    return filtered_tweet"
   ]
  },
  {
   "cell_type": "code",
   "execution_count": 4,
   "metadata": {},
   "outputs": [],
   "source": [
    "df = pd.read_csv('D:/RealTime-Twitter-Sentiment-Analysis/Datasets/uefa.csv')"
   ]
  },
  {
   "cell_type": "code",
   "execution_count": 5,
   "metadata": {},
   "outputs": [
    {
     "output_type": "execute_result",
     "data": {
      "text/plain": [
       "0        @Alkolikyorumlar yemin ederim felaket gaza gel...\n",
       "1        Aleksander Čeferin ostaja optimist, Uefa pa im...\n",
       "2        @nkoethos @piz_Zurigorri @DatAthle @GARA_jitur...\n",
       "3        @SerkanKara_JK @acrgss @sinyorvidoc @KramponSp...\n",
       "4        UEFA'dan 🇹🇷 Hakan Çalhanoğlu paylaşımı 👇  🅰 Ke...\n",
       "                               ...                        \n",
       "50093    @as0mani City them pay lifetime easy round of ...\n",
       "50094    Confronto número 1: Borússia Mönchengladbach x...\n",
       "50095    PERO QUE ES ESTO TIO A NOSOTROA NOS TOCARÁ EL ...\n",
       "50096    Dates of the 16th round matches of the 2020/21...\n",
       "50097                      Fucking hell uefa stop waffling\n",
       "Name: tweet, Length: 50098, dtype: object"
      ]
     },
     "metadata": {},
     "execution_count": 5
    }
   ],
   "source": [
    "df['tweet']"
   ]
  },
  {
   "cell_type": "code",
   "execution_count": 98,
   "metadata": {},
   "outputs": [],
   "source": [
    "#df['new_tweet'] = df['tweet'].apply(text_process)"
   ]
  },
  {
   "cell_type": "code",
   "execution_count": 99,
   "metadata": {},
   "outputs": [],
   "source": [
    "#df_final = df['new_tweet']"
   ]
  },
  {
   "cell_type": "code",
   "execution_count": 100,
   "metadata": {},
   "outputs": [],
   "source": [
    "#df_final.drop_duplicates(inplace=True)"
   ]
  },
  {
   "cell_type": "code",
   "execution_count": 102,
   "metadata": {},
   "outputs": [],
   "source": [
    "#df_final.to_csv('uefa_final.csv')"
   ]
  },
  {
   "cell_type": "code",
   "execution_count": 6,
   "metadata": {},
   "outputs": [],
   "source": [
    "df['tokens'] = df['tweet'].apply(text_process)"
   ]
  },
  {
   "cell_type": "code",
   "execution_count": 17,
   "metadata": {},
   "outputs": [
    {
     "output_type": "execute_result",
     "data": {
      "text/plain": [
       "6        [playing, uefa, youth, league, takes, away, st...\n",
       "7        [Happy, Birthday, 1x, World, Cup, 2014, 5x, Fi...\n",
       "13       [You, never, uefa, cupEuropa, league, CL, 135,...\n",
       "15                            [Looking, Belarus, 🇧🇾, week]\n",
       "17       [No, country, seeing, huge, rise, cases, compl...\n",
       "                               ...                        \n",
       "50089    [Lol, matter, UEFA, tries, help, city, ’, win,...\n",
       "50090    [No, way, City, get, easy, draw, yet, They, so...\n",
       "50093    [City, pay, lifetime, easy, round, 16, give, u...\n",
       "50096    [Dates, 16th, round, matches, 202021, UEFA, Ch...\n",
       "50097                [Fucking, hell, uefa, stop, waffling]\n",
       "Name: tokens, Length: 16799, dtype: object"
      ]
     },
     "metadata": {},
     "execution_count": 17
    }
   ],
   "source": [
    "df_en = df[df['language']=='en']['tokens']\n",
    "df_en"
   ]
  },
  {
   "cell_type": "code",
   "execution_count": 18,
   "metadata": {},
   "outputs": [],
   "source": [
    "uefa_model = Word2Vec(df_en,min_count=3,\n",
    "                     window=4,\n",
    "                     size=300,\n",
    "                     sample=1e-5, \n",
    "                     alpha=0.03, \n",
    "                     min_alpha=0.0007, \n",
    "                     negative=20)"
   ]
  },
  {
   "cell_type": "code",
   "execution_count": 27,
   "metadata": {},
   "outputs": [
    {
     "output_type": "execute_result",
     "data": {
      "text/plain": [
       "[('Our', 0.9999854564666748),\n",
       " ('coach', 0.9999846816062927),\n",
       " ('Klopp', 0.999984622001648),\n",
       " ('Best', 0.9999842643737793),\n",
       " ('AND', 0.9999842047691345),\n",
       " ('work', 0.999984085559845),\n",
       " ('many', 0.9999837279319763),\n",
       " ('next', 0.999983549118042),\n",
       " ('good', 0.9999834895133972),\n",
       " ('West', 0.9999834895133972)]"
      ]
     },
     "metadata": {},
     "execution_count": 27
    }
   ],
   "source": [
    "uefa_model.most_similar('football')"
   ]
  },
  {
   "cell_type": "code",
   "execution_count": null,
   "metadata": {},
   "outputs": [],
   "source": []
  }
 ]
}