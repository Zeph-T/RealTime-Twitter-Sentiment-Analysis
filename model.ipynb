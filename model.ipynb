{
 "metadata": {
  "language_info": {
   "codemirror_mode": {
    "name": "ipython",
    "version": 3
   },
   "file_extension": ".py",
   "mimetype": "text/x-python",
   "name": "python",
   "nbconvert_exporter": "python",
   "pygments_lexer": "ipython3",
   "version": "3.7.4-final"
  },
  "orig_nbformat": 2,
  "kernelspec": {
   "name": "python3",
   "display_name": "Python 3",
   "language": "python"
  }
 },
 "nbformat": 4,
 "nbformat_minor": 2,
 "cells": [
  {
   "cell_type": "code",
   "execution_count": 2,
   "metadata": {},
   "outputs": [],
   "source": [
    "#Import Libraries\n",
    "import numpy as np\n",
    "import pandas as pd\n",
    "import matplotlib.pyplot as plt\n",
    "%matplotlib inline\n",
    "import seaborn as sns\n",
    "import re\n",
    "import string\n",
    "import nltk"
   ]
  },
  {
   "cell_type": "code",
   "execution_count": 3,
   "metadata": {},
   "outputs": [],
   "source": [
    "stop_words = nltk.corpus.stopwords.words('English')"
   ]
  },
  {
   "cell_type": "code",
   "execution_count": 73,
   "metadata": {},
   "outputs": [],
   "source": [
    "def text_process(tweet):\n",
    "    tweet.lower()\n",
    "    #Remove URLs\n",
    "    tweet = re.sub(r\"http\\S+|www\\S+|https\\S+\", '', tweet, flags=re.MULTILINE)\n",
    "    #Remove @ mentions\n",
    "    tweet = re.sub(r'\\@\\w+|\\#','', tweet)\n",
    "    #Remove Emojis\n",
    "    emoji_pattern = re.compile(\n",
    "    u\"(\\ud83d[\\ude00-\\ude4f])|\"  # emoticons\n",
    "    u\"(\\ud83c[\\udf00-\\uffff])|\"  # symbols & pictographs (1 of 2)\n",
    "    u\"(\\ud83d[\\u0000-\\uddff])|\"  # symbols & pictographs (2 of 2)\n",
    "    u\"(\\ud83d[\\ude80-\\udeff])|\"  # transport & map symbols\n",
    "    u\"(\\ud83c[\\udde0-\\uddff])\"  # flags (iOS)\n",
    "    \"+\", flags=re.UNICODE)\n",
    "    emoji_pattern.sub(r'', tweet) # no emoji\n",
    "    #Remove punctuation\n",
    "    tweet = [char for char in tweet if char not in string.punctuation]\n",
    "    tweet = ''.join(tweet)\n",
    "    #Remove Stopwords\n",
    "    tweet_tokens = nltk.word_tokenize(tweet)\n",
    "    filtered_tweet = [tokens for tokens in tweet_tokens if tokens not in stop_words]\n",
    "    filtered_tweet = ' '.join(filtered_tweet)\n",
    "    return filtered_tweet"
   ]
  },
  {
   "cell_type": "code",
   "execution_count": 55,
   "metadata": {},
   "outputs": [],
   "source": [
    "uefa = pd.read_csv('G:/RealTime-Twitter-Sentiment-Analysis/Datasets/uefa.csv')"
   ]
  },
  {
   "cell_type": "code",
   "execution_count": 56,
   "metadata": {},
   "outputs": [
    {
     "output_type": "stream",
     "name": "stdout",
     "text": [
      "<class 'pandas.core.frame.DataFrame'>\nRangeIndex: 50098 entries, 0 to 50097\nData columns (total 36 columns):\nid                 50098 non-null int64\nconversation_id    50098 non-null int64\ncreated_at         50098 non-null object\ndate               50098 non-null object\ntime               50098 non-null object\ntimezone           50098 non-null int64\nuser_id            50098 non-null int64\nusername           50098 non-null object\nname               50096 non-null object\nplace              53 non-null object\ntweet              50098 non-null object\nlanguage           50098 non-null object\nmentions           50098 non-null object\nurls               50098 non-null object\nphotos             50098 non-null object\nreplies_count      50098 non-null int64\nretweets_count     50098 non-null int64\nlikes_count        50098 non-null int64\nhashtags           50098 non-null object\ncashtags           50098 non-null object\nlink               50098 non-null object\nretweet            50098 non-null bool\nquote_url          3727 non-null object\nvideo              50098 non-null int64\nthumbnail          9157 non-null object\nnear               0 non-null float64\ngeo                0 non-null float64\nsource             0 non-null float64\nuser_rt_id         0 non-null float64\nuser_rt            0 non-null float64\nretweet_id         0 non-null float64\nreply_to           50098 non-null object\nretweet_date       0 non-null float64\ntranslate          0 non-null float64\ntrans_src          0 non-null float64\ntrans_dest         0 non-null float64\ndtypes: bool(1), float64(10), int64(8), object(17)\nmemory usage: 13.4+ MB\n"
     ]
    }
   ],
   "source": [
    "uefa.info()"
   ]
  },
  {
   "cell_type": "code",
   "execution_count": 74,
   "metadata": {},
   "outputs": [],
   "source": [
    "uefa['new_tweet'] = uefa['tweet'].apply(text_process)"
   ]
  },
  {
   "cell_type": "code",
   "execution_count": 76,
   "metadata": {},
   "outputs": [
    {
     "output_type": "execute_result",
     "data": {
      "text/plain": [
       "                                           new_tweet  \\\n",
       "0  yemin ederim felaket gaza geldim bu video uefa...   \n",
       "1  Aleksander Čeferin ostaja optimist Uefa pa ima...   \n",
       "2  Y Ziganda se le lesionó Iker Muniain para 6 me...   \n",
       "3  Söyleyene bak tescilli şikecişike nedeniyle ue...   \n",
       "4  UEFAdan 🇹🇷 Hakan Çalhanoğlu paylaşımı 👇 🅰 Kena...   \n",
       "5  Premio organizzato non dalla figc non dalla ue...   \n",
       "6  playing uefa youth league takes away stage fri...   \n",
       "7  Happy Birthday 1x World Cup 2014 5x Fifa World...   \n",
       "8  UEFAdan Hakan Çalhanoğlu paylaşımı👇 Sırbistan ...   \n",
       "9  🧒💎 ¡¡Dos españoles entre las 50 promesas segui...   \n",
       "\n",
       "                                               tweet  \n",
       "0  @Alkolikyorumlar yemin ederim felaket gaza gel...  \n",
       "1  Aleksander Čeferin ostaja optimist, Uefa pa im...  \n",
       "2  @nkoethos @piz_Zurigorri @DatAthle @GARA_jitur...  \n",
       "3  @SerkanKara_JK @acrgss @sinyorvidoc @KramponSp...  \n",
       "4  UEFA'dan 🇹🇷 Hakan Çalhanoğlu paylaşımı 👇  🅰 Ke...  \n",
       "5  @Angjelo84509957 @masolinismo Premio organizza...  \n",
       "6  @Es_Milanello @Gervinhooshair playing in the u...  \n",
       "7  @goal Happy Birthday @ToniKroos   1x World Cup...  \n",
       "8  #UEFA'dan Hakan Çalhanoğlu paylaşımı👇  Sırbist...  \n",
       "9  🧒💎 ¡¡Dos españoles entre las 50 promesas a seg...  "
      ],
      "text/html": "<div>\n<style scoped>\n    .dataframe tbody tr th:only-of-type {\n        vertical-align: middle;\n    }\n\n    .dataframe tbody tr th {\n        vertical-align: top;\n    }\n\n    .dataframe thead th {\n        text-align: right;\n    }\n</style>\n<table border=\"1\" class=\"dataframe\">\n  <thead>\n    <tr style=\"text-align: right;\">\n      <th></th>\n      <th>new_tweet</th>\n      <th>tweet</th>\n    </tr>\n  </thead>\n  <tbody>\n    <tr>\n      <td>0</td>\n      <td>yemin ederim felaket gaza geldim bu video uefa...</td>\n      <td>@Alkolikyorumlar yemin ederim felaket gaza gel...</td>\n    </tr>\n    <tr>\n      <td>1</td>\n      <td>Aleksander Čeferin ostaja optimist Uefa pa ima...</td>\n      <td>Aleksander Čeferin ostaja optimist, Uefa pa im...</td>\n    </tr>\n    <tr>\n      <td>2</td>\n      <td>Y Ziganda se le lesionó Iker Muniain para 6 me...</td>\n      <td>@nkoethos @piz_Zurigorri @DatAthle @GARA_jitur...</td>\n    </tr>\n    <tr>\n      <td>3</td>\n      <td>Söyleyene bak tescilli şikecişike nedeniyle ue...</td>\n      <td>@SerkanKara_JK @acrgss @sinyorvidoc @KramponSp...</td>\n    </tr>\n    <tr>\n      <td>4</td>\n      <td>UEFAdan 🇹🇷 Hakan Çalhanoğlu paylaşımı 👇 🅰 Kena...</td>\n      <td>UEFA'dan 🇹🇷 Hakan Çalhanoğlu paylaşımı 👇  🅰 Ke...</td>\n    </tr>\n    <tr>\n      <td>5</td>\n      <td>Premio organizzato non dalla figc non dalla ue...</td>\n      <td>@Angjelo84509957 @masolinismo Premio organizza...</td>\n    </tr>\n    <tr>\n      <td>6</td>\n      <td>playing uefa youth league takes away stage fri...</td>\n      <td>@Es_Milanello @Gervinhooshair playing in the u...</td>\n    </tr>\n    <tr>\n      <td>7</td>\n      <td>Happy Birthday 1x World Cup 2014 5x Fifa World...</td>\n      <td>@goal Happy Birthday @ToniKroos   1x World Cup...</td>\n    </tr>\n    <tr>\n      <td>8</td>\n      <td>UEFAdan Hakan Çalhanoğlu paylaşımı👇 Sırbistan ...</td>\n      <td>#UEFA'dan Hakan Çalhanoğlu paylaşımı👇  Sırbist...</td>\n    </tr>\n    <tr>\n      <td>9</td>\n      <td>🧒💎 ¡¡Dos españoles entre las 50 promesas segui...</td>\n      <td>🧒💎 ¡¡Dos españoles entre las 50 promesas a seg...</td>\n    </tr>\n  </tbody>\n</table>\n</div>"
     },
     "metadata": {},
     "execution_count": 76
    }
   ],
   "source": [
    "uefa[['new_tweet','tweet']].head(10)"
   ]
  },
  {
   "cell_type": "code",
   "execution_count": null,
   "metadata": {},
   "outputs": [],
   "source": []
  }
 ]
}