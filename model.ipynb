{
 "metadata": {
  "language_info": {
   "codemirror_mode": {
    "name": "ipython",
    "version": 3
   },
   "file_extension": ".py",
   "mimetype": "text/x-python",
   "name": "python",
   "nbconvert_exporter": "python",
   "pygments_lexer": "ipython3",
   "version": "3.7.4-final"
  },
  "orig_nbformat": 2,
  "kernelspec": {
   "name": "python3",
   "display_name": "Python 3",
   "language": "python"
  }
 },
 "nbformat": 4,
 "nbformat_minor": 2,
 "cells": [
  {
   "cell_type": "code",
   "execution_count": 16,
   "metadata": {},
   "outputs": [],
   "source": [
    "#Import Libraries\n",
    "import numpy as np\n",
    "import pandas as pd\n",
    "import matplotlib.pyplot as plt\n",
    "%matplotlib inline\n",
    "import seaborn as sns\n",
    "import re\n",
    "import string\n",
    "import nltk"
   ]
  },
  {
   "cell_type": "code",
   "execution_count": 17,
   "metadata": {},
   "outputs": [],
   "source": [
    "stop_words = nltk.corpus.stopwords.words('English')"
   ]
  },
  {
   "cell_type": "code",
   "execution_count": 28,
   "metadata": {},
   "outputs": [],
   "source": [
    "def text_process(tweet):\n",
    "    tweet.lower()\n",
    "    #Remove URLs\n",
    "    tweet = re.sub(r\"http\\S+|www\\S+|https\\S+\", '', tweet, flags=re.MULTILINE)\n",
    "    #Remove @ mentions\n",
    "    tweet = re.sub(r'\\@\\w+|\\#','', tweet)\n",
    "    #Remove Emojis\n",
    "    #tweet = tweet.encode('ascii', 'ignore').decode('ascii')\n",
    "    #Remove punctuation\n",
    "    tweet = [char for char in tweet if char not in string.punctuation]\n",
    "    tweet = ''.join(tweet)\n",
    "    #Remove Stopwords\n",
    "    tweet_tokens = nltk.word_tokenize(tweet)\n",
    "    filtered_tweet = [tokens for tokens in tweet_tokens if tokens not in stop_words]\n",
    "    filtered_tweet = ' '.join(filtered_tweet)\n",
    "    return filtered_tweet"
   ]
  },
  {
   "cell_type": "code",
   "execution_count": 3,
   "metadata": {},
   "outputs": [],
   "source": [
    "bcci = pd.read_csv('G:/RealTime-Twitter-Sentiment-Analysis/Datasets/bcci.csv')"
   ]
  },
  {
   "cell_type": "code",
   "execution_count": 39,
   "metadata": {},
   "outputs": [
    {
     "output_type": "execute_result",
     "data": {
      "text/plain": [
       "en     35983\n",
       "und     4395\n",
       "hi      4335\n",
       "in      1312\n",
       "et       914\n",
       "tl       530\n",
       "ta       319\n",
       "it       214\n",
       "mr       205\n",
       "fr       196\n",
       "tr       193\n",
       "bn       189\n",
       "ht       187\n",
       "es       125\n",
       "gu       111\n",
       "kn        81\n",
       "or        69\n",
       "pt        68\n",
       "fi        67\n",
       "te        67\n",
       "de        58\n",
       "nl        56\n",
       "lv        31\n",
       "is        26\n",
       "sv        24\n",
       "pl        23\n",
       "sl        22\n",
       "ca        22\n",
       "eu        20\n",
       "ro        19\n",
       "cy        18\n",
       "da        17\n",
       "no        17\n",
       "ml        16\n",
       "cs        15\n",
       "ur        15\n",
       "pa        13\n",
       "hu        12\n",
       "lt        10\n",
       "ne        10\n",
       "ko         4\n",
       "si         2\n",
       "vi         2\n",
       "fa         1\n",
       "ps         1\n",
       "ja         1\n",
       "Name: language, dtype: int64"
      ]
     },
     "metadata": {},
     "execution_count": 39
    }
   ],
   "source": [
    "bcci['language'].value_counts()"
   ]
  },
  {
   "cell_type": "code",
   "execution_count": 18,
   "metadata": {},
   "outputs": [],
   "source": [
    "for t in bcci['tweet']:\n",
    "    bcci['filtered_tweets'] = text_process(t)"
   ]
  },
  {
   "cell_type": "code",
   "execution_count": 43,
   "metadata": {
    "tags": []
   },
   "outputs": [],
   "source": [
    "i = 0\n",
    "for t in bcci[bcci['retweets_count'] == 0]['tweet']:\n",
    "    bcci['filtered_tweet'][i] = text_process(t)\n",
    "    i = i+1"
   ]
  },
  {
   "cell_type": "code",
   "execution_count": 47,
   "metadata": {},
   "outputs": [
    {
     "output_type": "execute_result",
     "data": {
      "text/plain": [
       "44734    @ianuragthakur @AmitShah @sonalijaitley @rohan...\n",
       "44735    Splendid performance by the Indian bowling att...\n",
       "44736    Hey Tim Paine,What's with your shock and anger...\n",
       "44737    @veerenshah20 @BCCI Last time things were diff...\n",
       "44738    @IkrumuddinSyed So that mean u have to blame b...\n",
       "                               ...                        \n",
       "50010    Captains knock by Ajinkya Rahane, take a bow m...\n",
       "50011    @Humptydumpty93 @StarSportsIndia @BCCI Because...\n",
       "50012    @ICC @BCCI 4 English players, how????  https:/...\n",
       "50013    @Ganpatmalli @BCCI @ajinkyarahane88 felt very ...\n",
       "50014    @ICC @BCCI The only Pakistani in team of decad...\n",
       "Name: tweet, Length: 5281, dtype: object"
      ]
     },
     "metadata": {},
     "execution_count": 47
    }
   ],
   "source": [
    "bcci[bcci['filtered_tweet'] == 'The Pakistani team decade Tahir']['tweet']"
   ]
  },
  {
   "cell_type": "code",
   "execution_count": null,
   "metadata": {},
   "outputs": [],
   "source": []
  }
 ]
}