{
 "cells": [
  {
   "cell_type": "code",
   "execution_count": 1,
   "metadata": {},
   "outputs": [],
   "source": [
    "import pandas as pd\n",
    "import numpy as np\n",
    "from sklearn.feature_extraction.text import TfidfVectorizer\n",
    "from sklearn.metrics import accuracy_score, confusion_matrix, precision_score, recall_score, f1_score"
   ]
  },
  {
   "cell_type": "code",
   "execution_count": 26,
   "metadata": {},
   "outputs": [],
   "source": [
    "final_file = pd.read_csv(\"../Cleaned_Datasets/uefa_final.csv\")"
   ]
  },
  {
   "cell_type": "code",
   "execution_count": 27,
   "metadata": {},
   "outputs": [],
   "source": [
    "sentiment_map = pd.read_csv(\"uefa_sentiment_dictionary.csv\")\n",
    "sentiment_dict = dict(zip(sentiment_map.words.values, sentiment_map.sentiment_coeff.values))"
   ]
  },
  {
   "cell_type": "code",
   "execution_count": 28,
   "metadata": {},
   "outputs": [
    {
     "output_type": "execute_result",
     "data": {
      "text/plain": [
       "       Unnamed: 0                                             tweets\n",
       "0               0  play uefa youth leagu take away stage fright g...\n",
       "1               1  happi birthday 1x world cup 2014 5x fifa world...\n",
       "2               2  never uefa cupeuropa leagu cl 135 year history...\n",
       "3               3                                  look belaru  week\n",
       "4               4  countri see huge rise case complet season isn’...\n",
       "...           ...                                                ...\n",
       "16794       16794        lol matter uefa tri help citi won’t win ucl\n",
       "16795       16795        way citi get easi draw yet someon uefa nude\n",
       "16796       16796           citi pay lifetim easi round 16 give uefa\n",
       "16797       16797  date 16th round match 202021 uefa champion lea...\n",
       "16798       16798                          fuck hell uefa stop waffl\n",
       "\n",
       "[16776 rows x 2 columns]"
      ],
      "text/html": "<div>\n<style scoped>\n    .dataframe tbody tr th:only-of-type {\n        vertical-align: middle;\n    }\n\n    .dataframe tbody tr th {\n        vertical-align: top;\n    }\n\n    .dataframe thead th {\n        text-align: right;\n    }\n</style>\n<table border=\"1\" class=\"dataframe\">\n  <thead>\n    <tr style=\"text-align: right;\">\n      <th></th>\n      <th>Unnamed: 0</th>\n      <th>tweets</th>\n    </tr>\n  </thead>\n  <tbody>\n    <tr>\n      <td>0</td>\n      <td>0</td>\n      <td>play uefa youth leagu take away stage fright g...</td>\n    </tr>\n    <tr>\n      <td>1</td>\n      <td>1</td>\n      <td>happi birthday 1x world cup 2014 5x fifa world...</td>\n    </tr>\n    <tr>\n      <td>2</td>\n      <td>2</td>\n      <td>never uefa cupeuropa leagu cl 135 year history...</td>\n    </tr>\n    <tr>\n      <td>3</td>\n      <td>3</td>\n      <td>look belaru  week</td>\n    </tr>\n    <tr>\n      <td>4</td>\n      <td>4</td>\n      <td>countri see huge rise case complet season isn’...</td>\n    </tr>\n    <tr>\n      <td>...</td>\n      <td>...</td>\n      <td>...</td>\n    </tr>\n    <tr>\n      <td>16794</td>\n      <td>16794</td>\n      <td>lol matter uefa tri help citi won’t win ucl</td>\n    </tr>\n    <tr>\n      <td>16795</td>\n      <td>16795</td>\n      <td>way citi get easi draw yet someon uefa nude</td>\n    </tr>\n    <tr>\n      <td>16796</td>\n      <td>16796</td>\n      <td>citi pay lifetim easi round 16 give uefa</td>\n    </tr>\n    <tr>\n      <td>16797</td>\n      <td>16797</td>\n      <td>date 16th round match 202021 uefa champion lea...</td>\n    </tr>\n    <tr>\n      <td>16798</td>\n      <td>16798</td>\n      <td>fuck hell uefa stop waffl</td>\n    </tr>\n  </tbody>\n</table>\n<p>16776 rows × 2 columns</p>\n</div>"
     },
     "metadata": {},
     "execution_count": 28
    }
   ],
   "source": [
    "df_final = final_file.copy()\n",
    "df_final.dropna()"
   ]
  },
  {
   "cell_type": "code",
   "execution_count": 29,
   "metadata": {},
   "outputs": [],
   "source": [
    "tfidf = TfidfVectorizer(tokenizer=lambda y: y.split(), norm=None)\n",
    "tfidf.fit(df_final['tweets'].values.astype('U'))\n",
    "features = pd.Series(tfidf.get_feature_names())\n",
    "transformed = tfidf.transform(df_final['tweets'].values.astype('U'))"
   ]
  },
  {
   "cell_type": "code",
   "execution_count": 6,
   "metadata": {},
   "outputs": [],
   "source": [
    "def create_tfidf_dictionary(x, transformed_file, features):    \n",
    "    #create dictionary for each input sentence x, where each word has assigned its tfidf score\n",
    "    \n",
    "    vector_coo = transformed_file[x.name].tocoo()\n",
    "    vector_coo.col = features.iloc[vector_coo.col].values\n",
    "    dict_from_coo = dict(zip(vector_coo.col, vector_coo.data))\n",
    "    return dict_from_coo\n",
    "\n",
    "def replace_tfidf_words(x, transformed_file, features):\n",
    "    #replacing each word with it's calculated tfidf dictionary with scores of each word\n",
    "\n",
    "    dictionary = create_tfidf_dictionary(x, transformed_file, features)   \n",
    "    return list(map(lambda y:dictionary[f'{y}'], str(x.tweets).split()))"
   ]
  },
  {
   "cell_type": "code",
   "execution_count": 7,
   "metadata": {},
   "outputs": [],
   "source": [
    "def replace_sentiment_words(word, sentiment_dict):\n",
    "    #replacing each word with its associated sentiment score from sentiment dict\n",
    "    \n",
    "    try:\n",
    "        out = sentiment_dict[word]\n",
    "    except KeyError:\n",
    "        out = 0\n",
    "    return out"
   ]
  },
  {
   "cell_type": "code",
   "execution_count": 30,
   "metadata": {},
   "outputs": [],
   "source": [
    "replaced_tfidf_scores = df_final.apply(lambda x: replace_tfidf_words(x, transformed, features), axis=1)"
   ]
  },
  {
   "cell_type": "code",
   "execution_count": 31,
   "metadata": {},
   "outputs": [
    {
     "output_type": "execute_result",
     "data": {
      "text/plain": [
       "0    [1.2154296966912717, -1.2300455199206448, 1.57...\n",
       "1    [2.685032187726711, -1.6972360825258102, -1.45...\n",
       "2    [-1.4282080963388366, -1.2300455199206448, -2....\n",
       "3           [2.285192178215255, 0.0, 1.77720704392224]\n",
       "4    [1.6149768427838032, 2.4274016474143862, 2.106...\n",
       "Name: tweets, dtype: object"
      ]
     },
     "metadata": {},
     "execution_count": 31
    }
   ],
   "source": [
    "replaced_closeness_scores = df_final.tweets.apply(lambda x: list(map(lambda y: replace_sentiment_words(y, sentiment_dict), str(x).split())))\n",
    "replaced_closeness_scores.head()"
   ]
  },
  {
   "cell_type": "code",
   "execution_count": 32,
   "metadata": {},
   "outputs": [],
   "source": [
    "predictions_df = pd.DataFrame(data=[replaced_closeness_scores, replaced_tfidf_scores, df_final.tweets]).T\n",
    "predictions_df.columns = ['sentiment_coeff', 'tfidf_scores', 'sentence']\n",
    "predictions_df['sentiment_rate'] = predictions_df.apply(lambda x: np.array(x.loc['sentiment_coeff']) @ np.array(x.loc['tfidf_scores']), axis=1)\n"
   ]
  },
  {
   "cell_type": "code",
   "execution_count": 33,
   "metadata": {},
   "outputs": [],
   "source": [
    "a = predictions_df[predictions_df['sentiment_rate']>0]['sentiment_rate'].mean()\n",
    "b = predictions_df[predictions_df['sentiment_rate']<0]['sentiment_rate'].mean()"
   ]
  },
  {
   "cell_type": "code",
   "execution_count": 34,
   "metadata": {},
   "outputs": [],
   "source": [
    "for i in range(0,len(predictions_df.index)):\n",
    "    if predictions_df.loc[i,'sentiment_rate']>a:\n",
    "        predictions_df.loc[i,'prediction']=2\n",
    "    elif predictions_df.loc[i,'sentiment_rate']<b:\n",
    "        predictions_df.loc[i,'prediction']=0\n",
    "    else:\n",
    "        predictions_df.loc[i,'prediction']=1"
   ]
  },
  {
   "cell_type": "code",
   "execution_count": 35,
   "metadata": {},
   "outputs": [],
   "source": [
    "x = (predictions_df[predictions_df['prediction']==0]['prediction'].count())\n",
    "y = (predictions_df[predictions_df['prediction']==1]['prediction'].count())\n",
    "z = (predictions_df[predictions_df['prediction']==2]['prediction'].count())\n",
    "final = [(x/(x+y+z))*100,(y/(x+y+z))*100,(z/(x+y+z))*100]"
   ]
  },
  {
   "cell_type": "code",
   "execution_count": 20,
   "metadata": {},
   "outputs": [
    {
     "output_type": "execute_result",
     "data": {
      "text/plain": [
       "   percentage    labels\n",
       "0   18.468964  Negative\n",
       "1   64.290078   Neutral\n",
       "2   17.240958  Positive"
      ],
      "text/html": "<div>\n<style scoped>\n    .dataframe tbody tr th:only-of-type {\n        vertical-align: middle;\n    }\n\n    .dataframe tbody tr th {\n        vertical-align: top;\n    }\n\n    .dataframe thead th {\n        text-align: right;\n    }\n</style>\n<table border=\"1\" class=\"dataframe\">\n  <thead>\n    <tr style=\"text-align: right;\">\n      <th></th>\n      <th>percentage</th>\n      <th>labels</th>\n    </tr>\n  </thead>\n  <tbody>\n    <tr>\n      <td>0</td>\n      <td>18.468964</td>\n      <td>Negative</td>\n    </tr>\n    <tr>\n      <td>1</td>\n      <td>64.290078</td>\n      <td>Neutral</td>\n    </tr>\n    <tr>\n      <td>2</td>\n      <td>17.240958</td>\n      <td>Positive</td>\n    </tr>\n  </tbody>\n</table>\n</div>"
     },
     "metadata": {},
     "execution_count": 20
    }
   ],
   "source": [
    "#Covid_19 Sentiment Report\n",
    "covid_outcomes = pd.DataFrame(final,columns=['percentage'])\n",
    "covid_outcomes['labels'] = ['Negative','Neutral','Positive']\n",
    "covid_outcomes"
   ]
  },
  {
   "cell_type": "code",
   "execution_count": 33,
   "metadata": {},
   "outputs": [
    {
     "output_type": "execute_result",
     "data": {
      "text/plain": [
       "   percentage    labels\n",
       "0   14.620793  Negative\n",
       "1   67.665286   Neutral\n",
       "2   17.713920  Positive"
      ],
      "text/html": "<div>\n<style scoped>\n    .dataframe tbody tr th:only-of-type {\n        vertical-align: middle;\n    }\n\n    .dataframe tbody tr th {\n        vertical-align: top;\n    }\n\n    .dataframe thead th {\n        text-align: right;\n    }\n</style>\n<table border=\"1\" class=\"dataframe\">\n  <thead>\n    <tr style=\"text-align: right;\">\n      <th></th>\n      <th>percentage</th>\n      <th>labels</th>\n    </tr>\n  </thead>\n  <tbody>\n    <tr>\n      <td>0</td>\n      <td>14.620793</td>\n      <td>Negative</td>\n    </tr>\n    <tr>\n      <td>1</td>\n      <td>67.665286</td>\n      <td>Neutral</td>\n    </tr>\n    <tr>\n      <td>2</td>\n      <td>17.713920</td>\n      <td>Positive</td>\n    </tr>\n  </tbody>\n</table>\n</div>"
     },
     "metadata": {},
     "execution_count": 33
    }
   ],
   "source": [
    "#BCCI Sentiment Report\n",
    "bcci_outcomes = pd.DataFrame(final,columns=['percentage'])\n",
    "bcci_outcomes['labels'] = ['Negative','Neutral','Positive']\n",
    "bcci_outcomes"
   ]
  },
  {
   "cell_type": "code",
   "execution_count": 14,
   "metadata": {},
   "outputs": [
    {
     "output_type": "execute_result",
     "data": {
      "text/plain": [
       "   percentage    labels\n",
       "0   27.860126  Negative\n",
       "1   69.872883   Neutral\n",
       "2    2.266991  Positive"
      ],
      "text/html": "<div>\n<style scoped>\n    .dataframe tbody tr th:only-of-type {\n        vertical-align: middle;\n    }\n\n    .dataframe tbody tr th {\n        vertical-align: top;\n    }\n\n    .dataframe thead th {\n        text-align: right;\n    }\n</style>\n<table border=\"1\" class=\"dataframe\">\n  <thead>\n    <tr style=\"text-align: right;\">\n      <th></th>\n      <th>percentage</th>\n      <th>labels</th>\n    </tr>\n  </thead>\n  <tbody>\n    <tr>\n      <td>0</td>\n      <td>27.860126</td>\n      <td>Negative</td>\n    </tr>\n    <tr>\n      <td>1</td>\n      <td>69.872883</td>\n      <td>Neutral</td>\n    </tr>\n    <tr>\n      <td>2</td>\n      <td>2.266991</td>\n      <td>Positive</td>\n    </tr>\n  </tbody>\n</table>\n</div>"
     },
     "metadata": {},
     "execution_count": 14
    }
   ],
   "source": [
    "#BTS Sentiment Report\n",
    "bts_outcomes = pd.DataFrame(final,columns=['percentage'])\n",
    "bts_outcomes['labels'] = ['Negative','Neutral','Positive']\n",
    "bts_outcomes"
   ]
  },
  {
   "cell_type": "code",
   "execution_count": 25,
   "metadata": {},
   "outputs": [
    {
     "output_type": "execute_result",
     "data": {
      "text/plain": [
       "   percentage    labels\n",
       "0   24.373618  Negative\n",
       "1   59.676721   Neutral\n",
       "2   15.949661  Positive"
      ],
      "text/html": "<div>\n<style scoped>\n    .dataframe tbody tr th:only-of-type {\n        vertical-align: middle;\n    }\n\n    .dataframe tbody tr th {\n        vertical-align: top;\n    }\n\n    .dataframe thead th {\n        text-align: right;\n    }\n</style>\n<table border=\"1\" class=\"dataframe\">\n  <thead>\n    <tr style=\"text-align: right;\">\n      <th></th>\n      <th>percentage</th>\n      <th>labels</th>\n    </tr>\n  </thead>\n  <tbody>\n    <tr>\n      <td>0</td>\n      <td>24.373618</td>\n      <td>Negative</td>\n    </tr>\n    <tr>\n      <td>1</td>\n      <td>59.676721</td>\n      <td>Neutral</td>\n    </tr>\n    <tr>\n      <td>2</td>\n      <td>15.949661</td>\n      <td>Positive</td>\n    </tr>\n  </tbody>\n</table>\n</div>"
     },
     "metadata": {},
     "execution_count": 25
    }
   ],
   "source": [
    "#REACTJS Sentiment Report\n",
    "reactjs_outcomes = pd.DataFrame(final,columns=['percentage'])\n",
    "reactjs_outcomes['labels'] = ['Negative','Neutral','Positive']\n",
    "reactjs_outcomes"
   ]
  },
  {
   "cell_type": "code",
   "execution_count": 36,
   "metadata": {},
   "outputs": [
    {
     "output_type": "execute_result",
     "data": {
      "text/plain": [
       "   percentage    labels\n",
       "0    8.530270  Negative\n",
       "1   65.795583   Neutral\n",
       "2   25.674147  Positive"
      ],
      "text/html": "<div>\n<style scoped>\n    .dataframe tbody tr th:only-of-type {\n        vertical-align: middle;\n    }\n\n    .dataframe tbody tr th {\n        vertical-align: top;\n    }\n\n    .dataframe thead th {\n        text-align: right;\n    }\n</style>\n<table border=\"1\" class=\"dataframe\">\n  <thead>\n    <tr style=\"text-align: right;\">\n      <th></th>\n      <th>percentage</th>\n      <th>labels</th>\n    </tr>\n  </thead>\n  <tbody>\n    <tr>\n      <td>0</td>\n      <td>8.530270</td>\n      <td>Negative</td>\n    </tr>\n    <tr>\n      <td>1</td>\n      <td>65.795583</td>\n      <td>Neutral</td>\n    </tr>\n    <tr>\n      <td>2</td>\n      <td>25.674147</td>\n      <td>Positive</td>\n    </tr>\n  </tbody>\n</table>\n</div>"
     },
     "metadata": {},
     "execution_count": 36
    }
   ],
   "source": [
    "#UEFA Sentiment Report\n",
    "uefa_outcomes = pd.DataFrame(final,columns=['percentage'])\n",
    "uefa_outcomes['labels'] = ['Negative','Neutral','Positive']\n",
    "uefa_outcomes"
   ]
  },
  {
   "cell_type": "code",
   "execution_count": 156,
   "metadata": {},
   "outputs": [],
   "source": []
  },
  {
   "cell_type": "code",
   "execution_count": null,
   "metadata": {},
   "outputs": [],
   "source": []
  }
 ],
 "metadata": {
  "kernelspec": {
   "display_name": "Python 3",
   "language": "python",
   "name": "python3"
  },
  "language_info": {
   "codemirror_mode": {
    "name": "ipython",
    "version": 3
   },
   "file_extension": ".py",
   "mimetype": "text/x-python",
   "name": "python",
   "nbconvert_exporter": "python",
   "pygments_lexer": "ipython3",
   "version": "3.7.4-final"
  }
 },
 "nbformat": 4,
 "nbformat_minor": 4
}