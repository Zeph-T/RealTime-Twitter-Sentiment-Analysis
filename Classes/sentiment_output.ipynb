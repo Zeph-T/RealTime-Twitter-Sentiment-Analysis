{
 "metadata": {
  "language_info": {
   "codemirror_mode": {
    "name": "ipython",
    "version": 3
   },
   "file_extension": ".py",
   "mimetype": "text/x-python",
   "name": "python",
   "nbconvert_exporter": "python",
   "pygments_lexer": "ipython3",
   "version": "3.7.4-final"
  },
  "orig_nbformat": 2,
  "kernelspec": {
   "name": "python3",
   "display_name": "Python 3",
   "language": "python"
  }
 },
 "nbformat": 4,
 "nbformat_minor": 2,
 "cells": [
  {
   "cell_type": "code",
   "execution_count": 2,
   "metadata": {},
   "outputs": [],
   "source": [
    "import numpy as np\n",
    "import pandas as pd\n",
    "import re"
   ]
  },
  {
   "cell_type": "code",
   "execution_count": 5,
   "metadata": {},
   "outputs": [],
   "source": [
    "import nltk\n",
    "from nltk.corpus import stopwords\n",
    "from nltk.stem import WordNetLemmatizer\n",
    "import string"
   ]
  },
  {
   "cell_type": "code",
   "execution_count": 6,
   "metadata": {},
   "outputs": [],
   "source": [
    "from gensim.models.phrases import Phrases, Phraser\n",
    "from gensim.models import Word2Vec\n",
    "from gensim.test.utils import get_tmpfile\n",
    "from gensim.models import KeyedVectors"
   ]
  },
  {
   "cell_type": "code",
   "execution_count": 4,
   "metadata": {},
   "outputs": [],
   "source": [
    "class twitter:\n",
    "    \n",
    "    punct = set(string.punctuation)\n",
    "    lemm = WordNetLemmatizer()\n",
    "    stop_words = stopwords.words(\"english\")\n",
    "\n",
    "    def remove_emoji(string):\n",
    "        emoji_pattern = re.compile(\"[\"\n",
    "                            u\"\\U0001F600-\\U0001F64F\"  # emoticons\n",
    "                            u\"\\U0001F300-\\U0001F5FF\"  # symbols & pictographs\n",
    "                            u\"\\U0001F680-\\U0001F6FF\"  # transport & map symbols\n",
    "                            u\"\\U0001F1E0-\\U0001F1FF\"  # flags (iOS)\n",
    "                            u\"\\U00002702-\\U000027B0\"\n",
    "                            u\"\\U000024C2-\\U0001F251\"\n",
    "                            \"]+\", flags=re.UNICODE)\n",
    "        return emoji_pattern.sub(r'', string)\n",
    "\n",
    "\n",
    "    def data_cleaning(df_tweet):\n",
    "    \n",
    "        final_list = []\n",
    "        for raw_tweet in df_tweet:\n",
    "            tweet = str(raw_tweet).lower()\n",
    "            #for removing @\n",
    "            tweet = re.sub(r'@[\\S]+', '', tweet)\n",
    "            #for removing urls\n",
    "            tweet = re.sub(r'((www\\.[\\S]+)|(https?://[\\S]+))','',tweet)\n",
    "            #for replacing #hashtag with hashtag\n",
    "            tweet = re.sub(r'#(\\S+)', r' \\1 ', tweet)\n",
    "            #for removing punctuations\n",
    "            tweet_pt = []\n",
    "            for i in tweet:\n",
    "                if i not in punct:\n",
    "                    tweet_pt.append(i)\n",
    "            tweet = ''.join(tweet_pt)\n",
    "            #for removing StopWords\n",
    "            tweet_sw = []\n",
    "            for i in tweet.split():\n",
    "                if i not in stop_words:\n",
    "                    tweet_sw.append(lemm.lemmatize(i))\n",
    "\n",
    "            tweet_stemmed = ' '.join(tweet_sw)\n",
    "            #for removing emojis\n",
    "            tweet_final = remove_emoji(tweet_stemmed)\n",
    "            \n",
    "            \n",
    "            \n",
    "            final_list.append(tweet_final)\n",
    "            \n",
    "        return final_list\n",
    "    \n",
    "    def model(data):\n",
    "        fina_tweets =[]\n",
    "\n",
    "        final_tweet = pd.read_csv(\"../Cleaned_Datasets/\"+data)\n",
    "\n",
    "        fina_tweets = final_tweet['tweets']\n",
    "        for i in range(len(fina_tweets)):\n",
    "            fina_tweets[i] = str(fina_tweets[i]).split(' ')\n",
    "            \n",
    "            \n",
    "        final_tweet['tweets'] =fina_tweets\n"
   ]
  }
 ]
}