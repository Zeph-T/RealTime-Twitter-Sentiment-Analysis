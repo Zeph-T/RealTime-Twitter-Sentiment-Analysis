{
 "cells": [
  {
   "cell_type": "code",
   "execution_count": 1,
   "metadata": {},
   "outputs": [],
   "source": [
    "import numpy as np\n",
    "import pandas as pd\n",
    "import re"
   ]
  },
  {
   "cell_type": "code",
   "execution_count": 2,
   "metadata": {},
   "outputs": [],
   "source": [
    "import nltk\n",
    "from nltk.corpus import stopwords\n",
    "from nltk.stem import WordNetLemmatizer\n",
    "import string"
   ]
  },
  {
   "cell_type": "code",
   "execution_count": 3,
   "metadata": {},
   "outputs": [
    {
     "ename": "ModuleNotFoundError",
     "evalue": "No module named 'gensim'",
     "output_type": "error",
     "traceback": [
      "\u001b[0;31m---------------------------------------------------------------------------\u001b[0m",
      "\u001b[0;31mModuleNotFoundError\u001b[0m                       Traceback (most recent call last)",
      "\u001b[0;32m<ipython-input-3-8e44e9e6f5ea>\u001b[0m in \u001b[0;36m<module>\u001b[0;34m\u001b[0m\n\u001b[0;32m----> 1\u001b[0;31m \u001b[0;32mfrom\u001b[0m \u001b[0mgensim\u001b[0m\u001b[0;34m.\u001b[0m\u001b[0mmodels\u001b[0m\u001b[0;34m.\u001b[0m\u001b[0mphrases\u001b[0m \u001b[0;32mimport\u001b[0m \u001b[0mPhrases\u001b[0m\u001b[0;34m,\u001b[0m \u001b[0mPhraser\u001b[0m\u001b[0;34m\u001b[0m\u001b[0;34m\u001b[0m\u001b[0m\n\u001b[0m\u001b[1;32m      2\u001b[0m \u001b[0;32mfrom\u001b[0m \u001b[0mgensim\u001b[0m\u001b[0;34m.\u001b[0m\u001b[0mmodels\u001b[0m \u001b[0;32mimport\u001b[0m \u001b[0mWord2Vec\u001b[0m\u001b[0;34m\u001b[0m\u001b[0;34m\u001b[0m\u001b[0m\n\u001b[1;32m      3\u001b[0m \u001b[0;32mfrom\u001b[0m \u001b[0mgensim\u001b[0m\u001b[0;34m.\u001b[0m\u001b[0mtest\u001b[0m\u001b[0;34m.\u001b[0m\u001b[0mutils\u001b[0m \u001b[0;32mimport\u001b[0m \u001b[0mget_tmpfile\u001b[0m\u001b[0;34m\u001b[0m\u001b[0;34m\u001b[0m\u001b[0m\n\u001b[1;32m      4\u001b[0m \u001b[0;32mfrom\u001b[0m \u001b[0mgensim\u001b[0m\u001b[0;34m.\u001b[0m\u001b[0mmodels\u001b[0m \u001b[0;32mimport\u001b[0m \u001b[0mKeyedVectors\u001b[0m\u001b[0;34m\u001b[0m\u001b[0;34m\u001b[0m\u001b[0m\n",
      "\u001b[0;31mModuleNotFoundError\u001b[0m: No module named 'gensim'"
     ]
    }
   ],
   "source": [
    "from gensim.models.phrases import Phrases, Phraser\n",
    "from gensim.models import Word2Vec\n",
    "from gensim.test.utils import get_tmpfile\n",
    "from gensim.models import KeyedVectors\n",
    "from sklearn.cluster import KMeans"
   ]
  },
  {
   "cell_type": "code",
   "execution_count": 4,
   "metadata": {},
   "outputs": [],
   "source": [
    "from sklearn.feature_extraction.text import TfidfVectorizer\n",
    "from sklearn.metrics import accuracy_score, confusion_matrix, precision_score, recall_score, f1_score"
   ]
  },
  {
   "cell_type": "code",
   "execution_count": 14,
   "metadata": {},
   "outputs": [],
   "source": [
    "class twitter:\n",
    "    \n",
    "    punct = set(string.punctuation)\n",
    "    lemm = WordNetLemmatizer()\n",
    "    stop_words = stopwords.words(\"english\")\n",
    "\n",
    "    def __init__(self):\n",
    "        fina_tweets =[]\n",
    "\n",
    "        final_tweet = pd.read_csv(\"../Cleaned_Datasets/\"+ self.data)\n",
    "\n",
    "        fina_tweets = final_tweet['tweets']\n",
    "        for i in range(len(fina_tweets)):\n",
    "            fina_tweets[i] = str(fina_tweets[i]).split(' ')\n",
    "            \n",
    "            \n",
    "        final_tweet['tweets'] =fina_tweets\n",
    "\n",
    "        sent = [row for row in final_tweet.tweets]\n",
    "        phrases = Phrases(sent, min_count=1, progress_per=50000)\n",
    "        bigram = Phraser(phrases)\n",
    "        sentences = bigram[sent]\n",
    "\n",
    "        w2v_model = Word2Vec(min_count=3,\n",
    "                     window=4,\n",
    "                     size=300,\n",
    "                     sample=1e-5, \n",
    "                     alpha=0.03, \n",
    "                     min_alpha=0.0007, \n",
    "                     negative=20,\n",
    "                     )\n",
    "\n",
    "        w2v_model.build_vocab(sentences, progress_per=50000)\n",
    "\n",
    "        w2v_model.train(sentences, total_examples=w2v_model.corpus_count, epochs=100, report_delay=1)\n",
    "        w2v_model.init_sims(replace=True)\n",
    "\n",
    "    def remove_emoji(self,string):\n",
    "        emoji_pattern = re.compile(\"[\"\n",
    "                            u\"\\U0001F600-\\U0001F64F\"  # emoticons\n",
    "                            u\"\\U0001F300-\\U0001F5FF\"  # symbols & pictographs\n",
    "                            u\"\\U0001F680-\\U0001F6FF\"  # transport & map symbols\n",
    "                            u\"\\U0001F1E0-\\U0001F1FF\"  # flags (iOS)\n",
    "                            u\"\\U00002702-\\U000027B0\"\n",
    "                            u\"\\U000024C2-\\U0001F251\"\n",
    "                            \"]+\", flags=re.UNICODE)\n",
    "        return emoji_pattern.sub(r'', self.string)\n",
    "\n",
    "\n",
    "    def data_cleaning(self,df_tweet):\n",
    "    \n",
    "        final_list = []\n",
    "        for raw_tweet in self.df_tweet:\n",
    "            tweet = str(raw_tweet).lower()\n",
    "            #for removing @\n",
    "            tweet = re.sub(r'@[\\S]+', '', tweet)\n",
    "            #for removing urls\n",
    "            tweet = re.sub(r'((www\\.[\\S]+)|(https?://[\\S]+))','',tweet)\n",
    "            #for replacing #hashtag with hashtag\n",
    "            tweet = re.sub(r'#(\\S+)', r' \\1 ', tweet)\n",
    "            #for removing punctuations\n",
    "            tweet_pt = []\n",
    "            for i in tweet:\n",
    "                if i not in punct:\n",
    "                    tweet_pt.append(i)\n",
    "            tweet = ''.join(tweet_pt)\n",
    "            #for removing StopWords\n",
    "            tweet_sw = []\n",
    "            for i in tweet.split():\n",
    "                if i not in stop_words:\n",
    "                    tweet_sw.append(lemm.lemmatize(i))\n",
    "\n",
    "            tweet_stemmed = ' '.join(tweet_sw)\n",
    "            #for removing emojis\n",
    "            tweet_final = remove_emoji(tweet_stemmed)\n",
    "            \n",
    "            \n",
    "            \n",
    "            final_list.append(tweet_final)\n",
    "            \n",
    "        return final_list\n",
    "    \n",
    "    def kmeans(self,model):\n",
    "        word_vectors = Word2Vec.load(self.model+\".model\").wv\n",
    "\n",
<<<<<<< HEAD
    "        final_tweet = pd.read_csv(\"../Cleaned_Datasets/\"+data+\".csv\")\n",
    "\n",
    "        fina_tweets = final_tweet['tweets']\n",
    "        for i in range(len(fina_tweets)):\n",
    "            fina_tweets[i] = str(fina_tweets[i]).split(' ')\n",
    "            \n",
    "            \n",
    "        final_tweet['tweets'] =fina_tweets\n"
=======
    "        model = KMeans(n_clusters=3, max_iter=1000, random_state=True, n_init=50).fit(X=word_vectors.vectors.astype('double'))\n",
    "        words = pd.DataFrame(word_vectors.vocab.keys())\n",
    "        words.columns = ['words']\n",
    "        words['vectors'] = words.words.apply(lambda x: word_vectors[f'{x}'])\n",
    "        words['cluster'] = words.vectors.apply(lambda x: model.predict([np.array(x)]))\n",
    "        words.cluster = words.cluster.apply(lambda x: x[0])\n",
    "        words['cluster_value'] = [i-1 for i in words.cluster]\n",
    "        words['closeness_score'] = words.apply(lambda x: 1/(model.transform([x.vectors]).min()), axis=1)\n",
    "        words['sentiment_coeff'] = words.closeness_score * words.cluster_value\n",
    "        words[['words', 'sentiment_coeff']].to_csv('sentiment_dictionary.csv', index=False)"
   ]
  },
  {
   "cell_type": "code",
   "execution_count": 15,
   "metadata": {},
   "outputs": [
    {
     "output_type": "error",
     "ename": "TypeError",
     "evalue": "__init__() takes 1 positional argument but 2 were given",
     "traceback": [
      "\u001b[1;31m---------------------------------------------------------------------------\u001b[0m",
      "\u001b[1;31mTypeError\u001b[0m                                 Traceback (most recent call last)",
      "\u001b[1;32m<ipython-input-15-23866ef81fbd>\u001b[0m in \u001b[0;36m<module>\u001b[1;34m\u001b[0m\n\u001b[1;32m----> 1\u001b[1;33m \u001b[0mcovid_19\u001b[0m \u001b[1;33m=\u001b[0m \u001b[0mtwitter\u001b[0m\u001b[1;33m(\u001b[0m\u001b[1;34m\"covid_final.csv\"\u001b[0m\u001b[1;33m)\u001b[0m\u001b[1;33m\u001b[0m\u001b[1;33m\u001b[0m\u001b[0m\n\u001b[0m",
      "\u001b[1;31mTypeError\u001b[0m: __init__() takes 1 positional argument but 2 were given"
     ]
    }
   ],
   "source": [
    "covid_19 = twitter(\"covid_final.csv\")"
>>>>>>> cacb9e5c61bdecd6ab458e90646d3119ebf29ab6
   ]
  },
  {
   "cell_type": "code",
   "execution_count": null,
   "metadata": {},
   "outputs": [],
   "source": []
  }
 ],
 "metadata": {
  "kernelspec": {
   "display_name": "Python 3",
   "language": "python",
   "name": "python3"
  },
  "language_info": {
   "codemirror_mode": {
    "name": "ipython",
    "version": 3
   },
   "file_extension": ".py",
   "mimetype": "text/x-python",
   "name": "python",
   "nbconvert_exporter": "python",
   "pygments_lexer": "ipython3",
   "version": "3.8.3"
  }
 },
 "nbformat": 4,
 "nbformat_minor": 2
}
