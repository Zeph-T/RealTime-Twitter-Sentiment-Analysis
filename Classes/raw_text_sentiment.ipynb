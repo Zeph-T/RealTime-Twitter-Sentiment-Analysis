{
 "metadata": {
  "language_info": {
   "codemirror_mode": {
    "name": "ipython",
    "version": 3
   },
   "file_extension": ".py",
   "mimetype": "text/x-python",
   "name": "python",
   "nbconvert_exporter": "python",
   "pygments_lexer": "ipython3",
   "version": "3.7.4-final"
  },
  "orig_nbformat": 2,
  "kernelspec": {
   "name": "python3",
   "display_name": "Python 3",
   "language": "python"
  }
 },
 "nbformat": 4,
 "nbformat_minor": 2,
 "cells": [
  {
   "cell_type": "code",
   "execution_count": 1,
   "metadata": {},
   "outputs": [],
   "source": [
    "#Import Libraries\n",
    "import numpy as np\n",
    "import pandas as pd\n",
    "import nltk.corpus\n",
    "import string\n",
    "import re\n",
    "from textblob import TextBlob"
   ]
  },
  {
   "cell_type": "code",
   "execution_count": 2,
   "metadata": {},
   "outputs": [],
   "source": [
    "stop_words = nltk.corpus.stopwords.words('English')"
   ]
  },
  {
   "cell_type": "code",
   "execution_count": 3,
   "metadata": {},
   "outputs": [],
   "source": [
    "def text_process(tweet):\n",
    "    tweet.lower()\n",
    "    #Remove Urls\n",
    "    tweet = re.sub(r\"http\\S+|www\\S+|https\\S+\", '', tweet, flags=re.MULTILINE)\n",
    "    #Remove @ mentions\n",
    "    tweet = re.sub(r'\\@\\w+|\\#','', tweet)\n",
    "    #Remove Emojis\n",
    "    emoji_pattern = re.compile(\n",
    "    u\"(\\ud83d[\\ude00-\\ude4f])|\"  # emoticons\n",
    "    u\"(\\ud83c[\\udf00-\\uffff])|\"  # symbols & pictographs (1 of 2)\n",
    "    u\"(\\ud83d[\\u0000-\\uddff])|\"  # symbols & pictographs (2 of 2)\n",
    "    u\"(\\ud83d[\\ude80-\\udeff])|\"  # transport & map symbols\n",
    "    u\"(\\ud83c[\\udde0-\\uddff])\"  # flags (iOS)\n",
    "    \"+\", flags=re.UNICODE)\n",
    "    emoji_pattern.sub(r'', tweet) # no emoji\n",
    "    #Remove punctuation\n",
    "    tweet = [char for char in tweet if char not in string.punctuation]\n",
    "    tweet = ''.join(tweet)\n",
    "    #Remove Stopwords\n",
    "    tweet_tokens = nltk.word_tokenize(tweet)\n",
    "    filtered_tweet = [tokens for tokens in tweet_tokens if tokens not in stop_words]\n",
    "    filtered_tweet = ' '.join(filtered_tweet)\n",
    "    return filtered_tweet"
   ]
  },
  {
   "cell_type": "code",
   "execution_count": 19,
   "metadata": {},
   "outputs": [],
   "source": [
    "def get_tweet_sentiment(tweet): \n",
    "        ''' \n",
    "        Utility function to classify sentiment of passed tweet \n",
    "        using textblob's sentiment method \n",
    "        '''\n",
    "        # create TextBlob object of passed tweet text \n",
    "        analysis = TextBlob(text_process(tweet)) \n",
    "        # set sentiment \n",
    "        if analysis.sentiment.polarity > 0: \n",
    "            return 'Positive Percentage: ' + str(analysis.sentiment.polarity * 100)\n",
    "        elif analysis.sentiment.polarity == 0: \n",
    "            return 'Neutral tweet'\n",
    "        else: \n",
    "            return 'Negative Percentage: ' + str(analysis.sentiment.polarity * 100)"
   ]
  },
  {
   "cell_type": "code",
   "execution_count": 27,
   "metadata": {},
   "outputs": [],
   "source": [
    "uefa = pd.read_csv('G:/RealTime-Twitter-Sentiment-Analysis/Datasets/uefa.csv')"
   ]
  },
  {
   "cell_type": "code",
   "execution_count": 32,
   "metadata": {},
   "outputs": [],
   "source": [
    "uefa['tweet'].drop_duplicates(inplace=True)"
   ]
  },
  {
   "cell_type": "code",
   "execution_count": 33,
   "metadata": {},
   "outputs": [
    {
     "output_type": "execute_result",
     "data": {
      "text/plain": [
       "0        @Alkolikyorumlar yemin ederim felaket gaza gel...\n",
       "1        Aleksander Čeferin ostaja optimist, Uefa pa im...\n",
       "2        @nkoethos @piz_Zurigorri @DatAthle @GARA_jitur...\n",
       "3        @SerkanKara_JK @acrgss @sinyorvidoc @KramponSp...\n",
       "4        UEFA'dan 🇹🇷 Hakan Çalhanoğlu paylaşımı 👇  🅰 Ke...\n",
       "                               ...                        \n",
       "50093    @as0mani City them pay lifetime easy round of ...\n",
       "50094    Confronto número 1: Borússia Mönchengladbach x...\n",
       "50095    PERO QUE ES ESTO TIO A NOSOTROA NOS TOCARÁ EL ...\n",
       "50096    Dates of the 16th round matches of the 2020/21...\n",
       "50097                      Fucking hell uefa stop waffling\n",
       "Name: tweet, Length: 49272, dtype: object"
      ]
     },
     "metadata": {},
     "execution_count": 33
    }
   ],
   "source": [
    "uefa['tweet']"
   ]
  },
  {
   "cell_type": "code",
   "execution_count": 40,
   "metadata": {},
   "outputs": [],
   "source": [
    "uefa['sentiment'] = uefa[uefa['language']=='en']['tweet'].apply(get_tweet_sentiment)\n",
    "uefa['new_tweet'] = uefa[uefa['language']=='en']['tweet'].apply(text_process)"
   ]
  },
  {
   "cell_type": "code",
   "execution_count": 41,
   "metadata": {},
   "outputs": [
    {
     "output_type": "execute_result",
     "data": {
      "text/plain": [
       "                                                   tweet  \\\n",
       "6      @Es_Milanello @Gervinhooshair playing in the u...   \n",
       "7      @goal Happy Birthday @ToniKroos   1x World Cup...   \n",
       "13     @thierryjohn1 @SkySportsPL You have never won ...   \n",
       "15     @liamch_88 @EURO2020 @UEFA @UEFAcom Looking at...   \n",
       "17     @JohnnyTheNic No other country is seeing the s...   \n",
       "...                                                  ...   \n",
       "50089  @TheEuropeanLad Lol no matter how UEFA tries t...   \n",
       "50090  No way City get an easy draw yet again. They h...   \n",
       "50093  @as0mani City them pay lifetime easy round of ...   \n",
       "50096  Dates of the 16th round matches of the 2020/21...   \n",
       "50097                    Fucking hell uefa stop waffling   \n",
       "\n",
       "                                               new_tweet  \\\n",
       "6      playing uefa youth league takes away stage fri...   \n",
       "7      Happy Birthday 1x World Cup 2014 5x Fifa World...   \n",
       "13     You never uefa cupEuropa league CL 135 year hi...   \n",
       "15                               Looking Belarus 🇧🇾 week   \n",
       "17     No country seeing huge rise cases completing s...   \n",
       "...                                                  ...   \n",
       "50089          Lol matter UEFA tries help city ’ win UCL   \n",
       "50090  No way City get easy draw yet They someone UEF...   \n",
       "50093          City pay lifetime easy round 16 give uefa   \n",
       "50096  Dates 16th round matches 202021 UEFA Champions...   \n",
       "50097                    Fucking hell uefa stop waffling   \n",
       "\n",
       "                                     sentiment  \n",
       "6                    Positive Percentage: 30.0  \n",
       "7       Positive Percentage: 20.95238095238095  \n",
       "13                               Neutral tweet  \n",
       "15                               Neutral tweet  \n",
       "17     Positive Percentage: 20.000000000000004  \n",
       "...                                        ...  \n",
       "50089                Positive Percentage: 50.0  \n",
       "50090  Positive Percentage: 43.333333333333336  \n",
       "50093  Positive Percentage: 11.666666666666666  \n",
       "50096               Negative Percentage: -20.0  \n",
       "50097               Negative Percentage: -60.0  \n",
       "\n",
       "[16799 rows x 3 columns]"
      ],
      "text/html": "<div>\n<style scoped>\n    .dataframe tbody tr th:only-of-type {\n        vertical-align: middle;\n    }\n\n    .dataframe tbody tr th {\n        vertical-align: top;\n    }\n\n    .dataframe thead th {\n        text-align: right;\n    }\n</style>\n<table border=\"1\" class=\"dataframe\">\n  <thead>\n    <tr style=\"text-align: right;\">\n      <th></th>\n      <th>tweet</th>\n      <th>new_tweet</th>\n      <th>sentiment</th>\n    </tr>\n  </thead>\n  <tbody>\n    <tr>\n      <td>6</td>\n      <td>@Es_Milanello @Gervinhooshair playing in the u...</td>\n      <td>playing uefa youth league takes away stage fri...</td>\n      <td>Positive Percentage: 30.0</td>\n    </tr>\n    <tr>\n      <td>7</td>\n      <td>@goal Happy Birthday @ToniKroos   1x World Cup...</td>\n      <td>Happy Birthday 1x World Cup 2014 5x Fifa World...</td>\n      <td>Positive Percentage: 20.95238095238095</td>\n    </tr>\n    <tr>\n      <td>13</td>\n      <td>@thierryjohn1 @SkySportsPL You have never won ...</td>\n      <td>You never uefa cupEuropa league CL 135 year hi...</td>\n      <td>Neutral tweet</td>\n    </tr>\n    <tr>\n      <td>15</td>\n      <td>@liamch_88 @EURO2020 @UEFA @UEFAcom Looking at...</td>\n      <td>Looking Belarus 🇧🇾 week</td>\n      <td>Neutral tweet</td>\n    </tr>\n    <tr>\n      <td>17</td>\n      <td>@JohnnyTheNic No other country is seeing the s...</td>\n      <td>No country seeing huge rise cases completing s...</td>\n      <td>Positive Percentage: 20.000000000000004</td>\n    </tr>\n    <tr>\n      <td>...</td>\n      <td>...</td>\n      <td>...</td>\n      <td>...</td>\n    </tr>\n    <tr>\n      <td>50089</td>\n      <td>@TheEuropeanLad Lol no matter how UEFA tries t...</td>\n      <td>Lol matter UEFA tries help city ’ win UCL</td>\n      <td>Positive Percentage: 50.0</td>\n    </tr>\n    <tr>\n      <td>50090</td>\n      <td>No way City get an easy draw yet again. They h...</td>\n      <td>No way City get easy draw yet They someone UEF...</td>\n      <td>Positive Percentage: 43.333333333333336</td>\n    </tr>\n    <tr>\n      <td>50093</td>\n      <td>@as0mani City them pay lifetime easy round of ...</td>\n      <td>City pay lifetime easy round 16 give uefa</td>\n      <td>Positive Percentage: 11.666666666666666</td>\n    </tr>\n    <tr>\n      <td>50096</td>\n      <td>Dates of the 16th round matches of the 2020/21...</td>\n      <td>Dates 16th round matches 202021 UEFA Champions...</td>\n      <td>Negative Percentage: -20.0</td>\n    </tr>\n    <tr>\n      <td>50097</td>\n      <td>Fucking hell uefa stop waffling</td>\n      <td>Fucking hell uefa stop waffling</td>\n      <td>Negative Percentage: -60.0</td>\n    </tr>\n  </tbody>\n</table>\n<p>16799 rows × 3 columns</p>\n</div>"
     },
     "metadata": {},
     "execution_count": 41
    }
   ],
   "source": [
    "uefa[uefa['language']=='en'][['tweet','new_tweet','sentiment']]"
   ]
  },
  {
   "cell_type": "code",
   "execution_count": null,
   "metadata": {},
   "outputs": [],
   "source": []
  }
 ]
}