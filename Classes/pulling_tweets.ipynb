{
 "metadata": {
  "language_info": {
   "codemirror_mode": {
    "name": "ipython",
    "version": 3
   },
   "file_extension": ".py",
   "mimetype": "text/x-python",
   "name": "python",
   "nbconvert_exporter": "python",
   "pygments_lexer": "ipython3",
   "version": "3.7.4-final"
  },
  "orig_nbformat": 2,
  "kernelspec": {
   "name": "python3",
   "display_name": "Python 3",
   "language": "python"
  }
 },
 "nbformat": 4,
 "nbformat_minor": 2,
 "cells": [
  {
   "cell_type": "code",
   "execution_count": 1,
   "metadata": {},
   "outputs": [],
   "source": [
    "import tweepy\n",
    "import pandas as pd"
   ]
  },
  {
   "cell_type": "code",
   "execution_count": 2,
   "metadata": {},
   "outputs": [],
   "source": [
    "api_key=\"dwH2G54Nw25SGP2PyRvb50zu6\"\n",
    "api_secret=\"sYU3mfpPopw9uKGTnqIWTx7ccBnf92TAVDh6seCVLuk4DE7R2I\"\n",
    "access_token=\"1344932530953207808-lr4PbJmWlHYKTmm8NZtp6dVYphCEMs\"\n",
    "access_secret=\"3etQjNJdCyL0osXOmxEY7Gcadh09YrhpEEew2icJZeDTi\""
   ]
  },
  {
   "cell_type": "code",
   "execution_count": 3,
   "metadata": {},
   "outputs": [],
   "source": [
    "auth=tweepy.OAuthHandler(api_key,api_secret)\n",
    "auth.set_access_token(access_token,access_secret)\n",
    "api=tweepy.API(auth,wait_on_rate_limit=True)"
   ]
  },
  {
   "cell_type": "code",
   "execution_count": 9,
   "metadata": {},
   "outputs": [],
   "source": [
    "def pull_tweets(query, co=50):\n",
    "    tweets = []\n",
    "    fetch_tweets = api.search(q=\"#\"+query,count=co)\n",
    "    for w in fetch_tweets:\n",
    "        parse_tweet = []\n",
    "        parse_tweet.append(w.text)\n",
    "        if w.retweet_count > 0:\n",
    "            if parse_tweet not in tweets:\n",
    "                tweets.append(parse_tweet)\n",
    "        else:\n",
    "            tweets.append(parse_tweet)\n",
    "    return tweets"
   ]
  },
  {
   "cell_type": "code",
   "execution_count": 13,
   "metadata": {},
   "outputs": [],
   "source": [
    "covid_19 = pd.DataFrame(columns=['tweets'])\n",
    "\n",
    "covid_19['tweets'] = pull_tweets('covid_19', 10)"
   ]
  },
  {
   "cell_type": "code",
   "execution_count": 15,
   "metadata": {},
   "outputs": [
    {
     "output_type": "execute_result",
     "data": {
      "text/plain": [
       "                                              tweets\n",
       "0  [Des aides de l’#Etat seront suspendues en cas...\n",
       "1  [La ligne rouge est une courbe exponentielle, ...\n",
       "2  [RT @Steve_c1962: @BBCBreakfast @BBCNews #news...\n",
       "3  [@ndtv What are the various Side Effects repor...\n",
       "4  [@EmmanuelMacron Partez ! On s'en sortira sans...\n",
       "5  [RT @LambaAlka: उम्मीद करते हैं कि सरकार अपने ...\n",
       "6  [RT @drjessigold: And yet....we rarely talk ab...\n",
       "7  [RT @luis_villegasr: ¡A pesar del repunte mund...\n",
       "8  [RT @2_WhistleBlower: @archiduquesa_ 👉🏻#Puto #...\n",
       "9  [RT @GenFrexit: #Covid_19 : l'#UE tue !\\nUne é..."
      ],
      "text/html": "<div>\n<style scoped>\n    .dataframe tbody tr th:only-of-type {\n        vertical-align: middle;\n    }\n\n    .dataframe tbody tr th {\n        vertical-align: top;\n    }\n\n    .dataframe thead th {\n        text-align: right;\n    }\n</style>\n<table border=\"1\" class=\"dataframe\">\n  <thead>\n    <tr style=\"text-align: right;\">\n      <th></th>\n      <th>tweets</th>\n    </tr>\n  </thead>\n  <tbody>\n    <tr>\n      <td>0</td>\n      <td>[Des aides de l’#Etat seront suspendues en cas...</td>\n    </tr>\n    <tr>\n      <td>1</td>\n      <td>[La ligne rouge est une courbe exponentielle, ...</td>\n    </tr>\n    <tr>\n      <td>2</td>\n      <td>[RT @Steve_c1962: @BBCBreakfast @BBCNews #news...</td>\n    </tr>\n    <tr>\n      <td>3</td>\n      <td>[@ndtv What are the various Side Effects repor...</td>\n    </tr>\n    <tr>\n      <td>4</td>\n      <td>[@EmmanuelMacron Partez ! On s'en sortira sans...</td>\n    </tr>\n    <tr>\n      <td>5</td>\n      <td>[RT @LambaAlka: उम्मीद करते हैं कि सरकार अपने ...</td>\n    </tr>\n    <tr>\n      <td>6</td>\n      <td>[RT @drjessigold: And yet....we rarely talk ab...</td>\n    </tr>\n    <tr>\n      <td>7</td>\n      <td>[RT @luis_villegasr: ¡A pesar del repunte mund...</td>\n    </tr>\n    <tr>\n      <td>8</td>\n      <td>[RT @2_WhistleBlower: @archiduquesa_ 👉🏻#Puto #...</td>\n    </tr>\n    <tr>\n      <td>9</td>\n      <td>[RT @GenFrexit: #Covid_19 : l'#UE tue !\\nUne é...</td>\n    </tr>\n  </tbody>\n</table>\n</div>"
     },
     "metadata": {},
     "execution_count": 15
    }
   ],
   "source": [
    "covid_19"
   ]
  },
  {
   "cell_type": "code",
   "execution_count": null,
   "metadata": {},
   "outputs": [],
   "source": []
  }
 ]
}