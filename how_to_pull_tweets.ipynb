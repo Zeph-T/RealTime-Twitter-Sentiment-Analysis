{
 "metadata": {
  "language_info": {
   "codemirror_mode": {
    "name": "ipython",
    "version": 3
   },
   "file_extension": ".py",
   "mimetype": "text/x-python",
   "name": "python",
   "nbconvert_exporter": "python",
   "pygments_lexer": "ipython3",
   "version": "3.7.4-final"
  },
  "orig_nbformat": 2,
  "kernelspec": {
   "name": "python3",
   "display_name": "Python 3",
   "language": "python"
  }
 },
 "nbformat": 4,
 "nbformat_minor": 2,
 "cells": [
  {
   "cell_type": "code",
   "execution_count": 1,
   "metadata": {},
   "outputs": [],
   "source": [
    "import numpy as np\n",
    "import pandas as pd"
   ]
  },
  {
   "cell_type": "code",
   "execution_count": 2,
   "metadata": {},
   "outputs": [],
   "source": [
    "import tweepy"
   ]
  },
  {
   "cell_type": "code",
   "execution_count": 3,
   "metadata": {},
   "outputs": [],
   "source": [
    "#Authorization part\n",
    "api_key = 'n8kqhXmfYvf7B29QOQ5oh3hDy'\n",
    "api_secret_key = 'zkZ376QRd2vdRiwzYnGX9mUvkZOScpSvO9mcHA5o2lNB5oS2gm'\n",
    "\n",
    "access_token = '2256380318-QvpGMp2DYwvl9llyQexRMWCcvPbVmHW2JMG4vQy'\n",
    "access_token_secret = 'd2bCxi5VOM50c6UolFytPactB5fjtw3LFjlU9FvR2ADF6'\n",
    "\n",
    "auth = tweepy.OAuthHandler(api_key, api_secret_key)\n",
    "auth.set_access_token(access_token, access_token_secret)\n",
    "\n",
    "api = tweepy.API(auth)"
   ]
  },
  {
   "cell_type": "code",
   "execution_count": 10,
   "metadata": {},
   "outputs": [],
   "source": [
    "def pull_tweets(query, co=20000):\n",
    "    tweets = []\n",
    "    fetch_tweets = api.search(q=query,count=co)\n",
    "    for w in fetch_tweets:\n",
    "        parse_tweet = []\n",
    "        parse_tweet.append(w.text)\n",
    "        if w.retweet_count > 0:\n",
    "            if parse_tweet not in tweets:\n",
    "                tweets.append(parse_tweet)\n",
    "        else:\n",
    "            tweets.append(parse_tweet)\n",
    "    return tweets"
   ]
  },
  {
   "cell_type": "code",
   "execution_count": 11,
   "metadata": {},
   "outputs": [],
   "source": [
    "#Let's try to get tweets of query=\"COVID-19\"\n",
    "covid_19 = pd.DataFrame(columns=['tweets'])\n",
    "\n",
    "covid_19 = pull_tweets(query='Covid-19',co=10000)"
   ]
  },
  {
   "cell_type": "code",
   "execution_count": null,
   "metadata": {},
   "outputs": [],
   "source": []
  }
 ]
}