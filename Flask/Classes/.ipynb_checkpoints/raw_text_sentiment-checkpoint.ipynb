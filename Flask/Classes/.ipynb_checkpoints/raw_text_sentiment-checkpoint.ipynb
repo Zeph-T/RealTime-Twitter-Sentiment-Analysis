{
 "cells": [
  {
   "cell_type": "code",
   "execution_count": 1,
   "metadata": {},
   "outputs": [],
   "source": [
    "#Import Libraries\n",
    "import numpy as np\n",
    "import pandas as pd\n",
    "import nltk.corpus\n",
    "import string\n",
    "import re\n",
    "from textblob import TextBlob"
   ]
  },
  {
   "cell_type": "code",
   "execution_count": 2,
   "metadata": {},
   "outputs": [],
   "source": [
    "stop_words = nltk.corpus.stopwords.words('English')"
   ]
  },
  {
   "cell_type": "code",
   "execution_count": 3,
   "metadata": {},
   "outputs": [],
   "source": [
    "def text_process(tweet):\n",
    "    tweet.lower()\n",
    "    #Remove Urls\n",
    "    tweet = re.sub(r\"http\\S+|www\\S+|https\\S+\", '', tweet, flags=re.MULTILINE)\n",
    "    #Remove @ mentions\n",
    "    tweet = re.sub(r'\\@\\w+|\\#','', tweet)\n",
    "    #Remove Emojis\n",
    "    emoji_pattern = re.compile(\n",
    "    u\"(\\ud83d[\\ude00-\\ude4f])|\"  # emoticons\n",
    "    u\"(\\ud83c[\\udf00-\\uffff])|\"  # symbols & pictographs (1 of 2)\n",
    "    u\"(\\ud83d[\\u0000-\\uddff])|\"  # symbols & pictographs (2 of 2)\n",
    "    u\"(\\ud83d[\\ude80-\\udeff])|\"  # transport & map symbols\n",
    "    u\"(\\ud83c[\\udde0-\\uddff])\"  # flags (iOS)\n",
    "    \"+\", flags=re.UNICODE)\n",
    "    emoji_pattern.sub(r'', tweet) # no emoji\n",
    "    #Remove punctuation\n",
    "    tweet = [char for char in tweet if char not in string.punctuation]\n",
    "    tweet = ''.join(tweet)\n",
    "    #Remove Stopwords\n",
    "    tweet_tokens = nltk.word_tokenize(tweet)\n",
    "    filtered_tweet = [tokens for tokens in tweet_tokens if tokens not in stop_words]\n",
    "    filtered_tweet = ' '.join(filtered_tweet)\n",
    "    return filtered_tweet"
   ]
  },
  {
   "cell_type": "code",
   "execution_count": 4,
   "metadata": {},
   "outputs": [],
   "source": [
    "def get_tweet_sentiment(tweet): \n",
    "        ''' \n",
    "        Utility function to classify sentiment of passed tweet \n",
    "        using textblob's sentiment method \n",
    "        '''\n",
    "        # create TextBlob object of passed tweet text \n",
    "        analysis = TextBlob(text_process(tweet)) \n",
    "        # set sentiment \n",
    "        if analysis.sentiment.polarity > 0: \n",
    "            return 'Positive Percentage: ' + str(analysis.sentiment.polarity * 100)\n",
    "        elif analysis.sentiment.polarity == 0: \n",
    "            return 'Neutral tweet'\n",
    "        else: \n",
    "            return 'Negative Percentage: ' + str(analysis.sentiment.polarity * 100)"
   ]
  },
  {
   "cell_type": "code",
   "execution_count": 5,
   "metadata": {},
   "outputs": [],
   "source": [
    "user_input = input(\"Enter your tweet to calculate its sentiment\")"
   ]
  },
  {
   "cell_type": "code",
   "execution_count": 6,
   "metadata": {},
   "outputs": [],
   "source": [
    "sentiment = get_tweet_sentiment(user_input)\n",
    "cleaned_tweet = text_process(user_input)"
   ]
  },
  {
   "cell_type": "code",
   "execution_count": 7,
   "metadata": {},
   "outputs": [
    {
     "name": "stdout",
     "output_type": "stream",
     "text": [
      "Your tweet: Climate is good.... nothing beats my mood.... come and sit on my dude \n",
      "Cleaned Tweet: Climate good nothing beats mood come sit dude \n",
      "Sentiment: Positive Percentage: 70.0\n"
     ]
    }
   ],
   "source": [
    "print(\"Your tweet:\",user_input,\"\\nCleaned Tweet:\",cleaned_tweet,\"\\nSentiment:\",sentiment)"
   ]
  },
  {
   "cell_type": "code",
   "execution_count": null,
   "metadata": {},
   "outputs": [],
   "source": []
  }
 ],
 "metadata": {
  "kernelspec": {
   "display_name": "Python 3",
   "language": "python",
   "name": "python3"
  },
  "language_info": {
   "codemirror_mode": {
    "name": "ipython",
    "version": 3
   },
   "file_extension": ".py",
   "mimetype": "text/x-python",
   "name": "python",
   "nbconvert_exporter": "python",
   "pygments_lexer": "ipython3",
   "version": "3.8.3"
  }
 },
 "nbformat": 4,
 "nbformat_minor": 2
}
