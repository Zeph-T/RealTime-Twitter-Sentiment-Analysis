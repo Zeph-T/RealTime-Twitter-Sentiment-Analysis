{
 "cells": [
  {
   "cell_type": "code",
   "execution_count": 1,
   "metadata": {},
   "outputs": [],
   "source": [
    "import tweepy\n",
    "import pandas as pd"
   ]
  },
  {
   "cell_type": "code",
   "execution_count": 2,
   "metadata": {},
   "outputs": [],
   "source": [
    "api_key=\"dwH2G54Nw25SGP2PyRvb50zu6\"\n",
    "api_secret=\"sYU3mfpPopw9uKGTnqIWTx7ccBnf92TAVDh6seCVLuk4DE7R2I\"\n",
    "access_token=\"1344932530953207808-lr4PbJmWlHYKTmm8NZtp6dVYphCEMs\"\n",
    "access_secret=\"3etQjNJdCyL0osXOmxEY7Gcadh09YrhpEEew2icJZeDTi\""
   ]
  },
  {
   "cell_type": "code",
   "execution_count": 3,
   "metadata": {},
   "outputs": [],
   "source": [
    "auth=tweepy.OAuthHandler(api_key,api_secret)\n",
    "auth.set_access_token(access_token,access_secret)\n",
    "api=tweepy.API(auth,wait_on_rate_limit=True)"
   ]
  },
  {
   "cell_type": "code",
   "execution_count": 4,
   "metadata": {},
   "outputs": [],
   "source": [
    "public_tweets = api.home_timeline()\n",
    "\n",
    "for tweet in public_tweets:\n",
    "    print(tweet.text)"
   ]
  },
  {
   "cell_type": "code",
   "execution_count": 5,
   "metadata": {},
   "outputs": [],
   "source": [
    "search_words=\"BTS_twt\"\n",
    "date_since=[\"2020-1-1\",\"2020-2-1\",\"2020-3-1\",\"2020-4-1\",\"2020-5-1\",\"2020-6-1\",\"2020-7-1\",\"2020-8-1\",\"2020-9-1\",\"2020-10-1\",\"2020-11-1\",\"2020-12-1\"]\n",
    "date_until=[\"2020-1-31\",\"2020-2-30\",\"2020-3-31\",\"2020-4-30\",\"2020-5-31\",\"2020-6-30\",\"2020-7-31\",\"2020-8-31\",\"2020-9-30\",\"2020-10-31\",\"2020-11-30\",\"2020-12-31\"]"
   ]
  },
  {
   "cell_type": "code",
   "execution_count": 6,
   "metadata": {},
   "outputs": [],
   "source": [
    "tweets_data=[]"
   ]
  },
  {
   "cell_type": "code",
   "execution_count": 10,
   "metadata": {},
   "outputs": [
    {
     "name": "stdout",
     "output_type": "stream",
     "text": [
      "Starting  2020-1-1\n",
      "Completed  2020-1-31\n",
      "Starting  2020-2-1\n",
      "Completed  2020-2-30\n",
      "Starting  2020-3-1\n",
      "Completed  2020-3-31\n",
      "Starting  2020-4-1\n",
      "Completed  2020-4-30\n",
      "Starting  2020-5-1\n",
      "Completed  2020-5-31\n",
      "Starting  2020-6-1\n",
      "Completed  2020-6-30\n",
      "Starting  2020-7-1\n",
      "Completed  2020-7-31\n",
      "Starting  2020-8-1\n",
      "Completed  2020-8-31\n",
      "Starting  2020-9-1\n",
      "Completed  2020-9-30\n",
      "Starting  2020-10-1\n",
      "Completed  2020-10-31\n",
      "Starting  2020-11-1\n",
      "Completed  2020-11-30\n",
      "Starting  2020-12-1\n",
      "Completed  2020-12-31\n"
     ]
    }
   ],
   "source": [
    "for month in range(12):\n",
    "    tweets = tweepy.Cursor(api.search,\n",
    "                           q=\"#\"+search_words+\" since:\"+date_since[month]+\"until:\"+date_until[month],\n",
    "                           lang=\"en\").items(2000)\n",
    "   # print(date_since[month])\n",
    "    print(\"Starting \",date_since[month])\n",
    "    for tweet in tweets:\n",
    "        tweets_data.append(tweet.text)\n",
    "    print(\"Completed \",date_until[month])"
   ]
  },
  {
   "cell_type": "code",
   "execution_count": 9,
   "metadata": {},
   "outputs": [
    {
     "data": {
      "text/plain": [
       "1200"
      ]
     },
     "execution_count": 9,
     "metadata": {},
     "output_type": "execute_result"
    }
   ],
   "source": [
    "len(tweets_data)"
   ]
  },
  {
   "cell_type": "markdown",
   "metadata": {},
   "source": [
    "len(tweets_data[2])"
   ]
  },
  {
   "cell_type": "code",
   "execution_count": null,
   "metadata": {},
   "outputs": [],
   "source": [
    "len(tweets_data[])"
   ]
  },
  {
   "cell_type": "code",
   "execution_count": null,
   "metadata": {},
   "outputs": [],
   "source": [
    "tweets_data"
   ]
  },
  {
   "cell_type": "code",
   "execution_count": null,
   "metadata": {},
   "outputs": [],
   "source": [
    "df=pd.DataFrame(data=tweets_data,columns=[\"tweets\"])"
   ]
  },
  {
   "cell_type": "code",
   "execution_count": null,
   "metadata": {},
   "outputs": [],
   "source": [
    "df.head()"
   ]
  },
  {
   "cell_type": "code",
   "execution_count": null,
   "metadata": {},
   "outputs": [],
   "source": [
    "df.to_csv(\"covid-1.csv\",index=False)\n",
    "len(df)"
   ]
  },
  {
   "cell_type": "code",
   "execution_count": null,
   "metadata": {},
   "outputs": [],
   "source": [
    "from openpyxl import load_workbook\n"
   ]
  },
  {
   "cell_type": "code",
   "execution_count": null,
   "metadata": {},
   "outputs": [],
   "source": [
    "\n",
    "# new dataframe with same columns\n",
    "writer = pd.ExcelWriter('data.xlsx', engine='openpyxl')\n",
    "# try to open an existing workbook\n",
    "writer.book = load_workbook('data.xlsx')\n",
    "# copy existing sheets\n",
    "writer.sheets = dict((ws.title, ws) for ws in writer.book.worksheets)\n",
    "# read existing file\n",
    "reader = pd.read_excel(r'data.xlsx')\n",
    "# write out the new sheet\n",
    "df.to_excel(writer,index=False,header=False,startrow=len(reader)+1)\n",
    "\n",
    "writer.close()"
   ]
  },
  {
   "cell_type": "code",
   "execution_count": null,
   "metadata": {},
   "outputs": [],
   "source": []
  }
 ],
 "metadata": {
  "kernelspec": {
   "display_name": "Python 3",
   "language": "python",
   "name": "python3"
  },
  "language_info": {
   "codemirror_mode": {
    "name": "ipython",
    "version": 3
   },
   "file_extension": ".py",
   "mimetype": "text/x-python",
   "name": "python",
   "nbconvert_exporter": "python",
   "pygments_lexer": "ipython3",
   "version": "3.7.4"
  }
 },
 "nbformat": 4,
 "nbformat_minor": 4
}
